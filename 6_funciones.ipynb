{
 "cells": [
  {
   "cell_type": "markdown",
   "metadata": {},
   "source": [
    "# CORREGIR\n",
    "1. idioma - ERROR 500\n",
    "2. durecion - hermoso\n",
    "3. franquicia - no funca\n",
    "4. pais - hermoso\n",
    "5. productoras - TriStar Pictures no aparece. arreglarlo. no aparece el mj de que no ta en la base\n",
    "6. diector -  funciona bonito - agregaria un mj de si el director no ta en la base"
   ]
  },
  {
   "cell_type": "markdown",
   "metadata": {},
   "source": [
    "Una de las consignas de este proyecto es crear 6 funciones para los endpoints que se consumirán en la API.\n",
    "Esas funciones son: \n",
    "\n",
    "(ok) def peliculas_idioma( Idioma: str ): Se ingresa un idioma (como están escritos en el dataset, no hay que traducirlos!). Debe devolver la cantidad de películas producidas en ese idioma.\n",
    "                    Ejemplo de retorno: X cantidad de películas fueron estrenadas en idioma\n",
    "\n",
    "(Mejorar) def peliculas_duracion( Pelicula: str ): Se ingresa una pelicula. Debe devolver la duracion y el año.\n",
    "                    Ejemplo de retorno: X . Duración: x. Año: xx\n",
    "\n",
    "() def franquicia( Franquicia: str ): Se ingresa la franquicia, retornando la cantidad de peliculas, ganancia total y promedio\n",
    "                    Ejemplo de retorno: La franquicia X posee X peliculas, una ganancia total de x y una ganancia promedio de xx\n",
    "\n",
    "() def peliculas_pais( Pais: str ): Se ingresa un país (como están escritos en el dataset, no hay que traducirlos!), retornando la cantidad de peliculas producidas en el mismo.\n",
    "                    Ejemplo de retorno: Se produjeron X películas en el país X\n",
    "\n",
    "() def productoras_exitosas( Productora: str ): Se ingresa la productora, entregandote el revunue total y la cantidad de peliculas que realizo.\n",
    "                    Ejemplo de retorno: La productora X ha tenido un revenue de x\n",
    "\n",
    "() def get_director( nombre_director ): Se ingresa el nombre de un director que se encuentre dentro de un dataset debiendo devolver el éxito del mismo medido a través del retorno. Además, deberá devolver el nombre de cada película con la fecha de lanzamiento, retorno individual, costo y ganancia de la misma, en formato lista."
   ]
  },
  {
   "cell_type": "markdown",
   "metadata": {},
   "source": [
    "Carga de librerias y dfs"
   ]
  },
  {
   "cell_type": "code",
   "execution_count": 2,
   "metadata": {},
   "outputs": [],
   "source": [
    "import pandas as pd\n",
    "import numpy as np\n",
    "import matplotlib.pyplot as plt\n",
    "\n",
    "# Establecer la opción para mostrar todas las columnas\n",
    "pd.set_option('display.max_columns', None)"
   ]
  },
  {
   "cell_type": "code",
   "execution_count": 3,
   "metadata": {},
   "outputs": [],
   "source": [
    "collections = pd.read_csv('data/collections.csv',low_memory=False)\n",
    "directors = pd.read_csv(\"data/directors.csv\", sep=\",\")\n",
    "movies = pd.read_csv('data/movies_3.csv',low_memory=False)\n",
    "movies_production_companies = pd.read_csv(\"data/movies_production_companies.csv\", sep=\",\")\n",
    "original_language = pd.read_csv('data/original_language.csv',low_memory=False)\n",
    "production_countries = pd.read_csv(\"data/movies_production_countries.csv\", sep=\",\")"
   ]
  },
  {
   "cell_type": "markdown",
   "metadata": {},
   "source": [
    "-----"
   ]
  },
  {
   "cell_type": "markdown",
   "metadata": {},
   "source": [
    "# 1 . función peliculas_idioma"
   ]
  },
  {
   "cell_type": "markdown",
   "metadata": {},
   "source": [
    "Se ingresa un idioma (como están escritos en el dataset, no hay que traducirlos!). Debe devolver la cantidad de películas producidas en ese idioma.\n",
    "Ejemplo de retorno: X cantidad de películas fueron estrenadas en idioma\n"
   ]
  },
  {
   "cell_type": "code",
   "execution_count": 4,
   "metadata": {},
   "outputs": [
    {
     "ename": "TypeError",
     "evalue": "'bool' object is not callable",
     "output_type": "error",
     "traceback": [
      "\u001b[1;31m---------------------------------------------------------------------------\u001b[0m",
      "\u001b[1;31mTypeError\u001b[0m                                 Traceback (most recent call last)",
      "Cell \u001b[1;32mIn[4], line 1\u001b[0m\n\u001b[1;32m----> 1\u001b[0m original_language[original_language\u001b[39m.\u001b[39;49mempty()]\n",
      "\u001b[1;31mTypeError\u001b[0m: 'bool' object is not callable"
     ]
    }
   ],
   "source": [
    "original_language[original_language.empty()]"
   ]
  },
  {
   "cell_type": "markdown",
   "metadata": {},
   "source": [
    "# revisar esto"
   ]
  },
  {
   "cell_type": "code",
   "execution_count": null,
   "metadata": {},
   "outputs": [
    {
     "data": {
      "text/plain": [
       "id_movie              int64\n",
       "title                object\n",
       "original_language    object\n",
       "dtype: object"
      ]
     },
     "execution_count": 6,
     "metadata": {},
     "output_type": "execute_result"
    }
   ],
   "source": [
    "original_language.dtypes"
   ]
  },
  {
   "cell_type": "code",
   "execution_count": null,
   "metadata": {},
   "outputs": [],
   "source": [
    "original_language = original_language.astype({'id_movie' : 'int', \n",
    "                        'title':'str',\n",
    "                        'original_language': 'str'})"
   ]
  },
  {
   "cell_type": "code",
   "execution_count": null,
   "metadata": {},
   "outputs": [
    {
     "data": {
      "text/plain": [
       "id_movie              int32\n",
       "title                object\n",
       "original_language    object\n",
       "dtype: object"
      ]
     },
     "execution_count": 8,
     "metadata": {},
     "output_type": "execute_result"
    }
   ],
   "source": [
    "original_language.dtypes"
   ]
  },
  {
   "cell_type": "code",
   "execution_count": null,
   "metadata": {},
   "outputs": [
    {
     "data": {
      "text/plain": [
       "32176"
      ]
     },
     "execution_count": 47,
     "metadata": {},
     "output_type": "execute_result"
    }
   ],
   "source": [
    "original_language[original_language.original_language == 'en'].shape[0]"
   ]
  },
  {
   "cell_type": "code",
   "execution_count": null,
   "metadata": {},
   "outputs": [],
   "source": [
    "# @app.get('/peliculas_idioma/{idioma}')\n",
    "def peliculas_idioma(idioma:str):\n",
    "    try:\n",
    "        idioma = idioma.lower().strip()\n",
    "        respuesta = original_language[original_language.original_language == idioma].shape[0]\n",
    "        return {'idioma':idioma, 'cantidad':respuesta}    \n",
    "    \n",
    "    except Exception as e:\n",
    "\n",
    "        return {'error': str(e)}\n",
    "\n",
    "   \n",
    "    "
   ]
  },
  {
   "cell_type": "code",
   "execution_count": null,
   "metadata": {},
   "outputs": [
    {
     "name": "stdout",
     "output_type": "stream",
     "text": [
      "{'idioma': 'en', 'cantidad': 32176}\n",
      "{'idioma': 'es', 'cantidad': 992}\n",
      "{'idioma': '0', 'cantidad': 0}\n",
      "{'idioma': 'tg', 'cantidad': 1}\n"
     ]
    }
   ],
   "source": [
    "print(peliculas_idioma('EN'))\n",
    "print(peliculas_idioma('es'))\n",
    "print(peliculas_idioma('0'))\n",
    "print(peliculas_idioma('tg'))"
   ]
  },
  {
   "cell_type": "markdown",
   "metadata": {},
   "source": [
    "Si es resultado es 0, se entiende que no hay peliculas en ese idioma y por lo tanto significaria que no estan en la base de datos."
   ]
  },
  {
   "cell_type": "markdown",
   "metadata": {},
   "source": [
    "-------------"
   ]
  },
  {
   "cell_type": "markdown",
   "metadata": {},
   "source": [
    "# 2. función peliculas_duracion"
   ]
  },
  {
   "cell_type": "markdown",
   "metadata": {},
   "source": [
    "Se ingresa una pelicula. Debe devolver la duracion y el año.\n",
    "Ejemplo de retorno: X . Duración: x. Año: xx"
   ]
  },
  {
   "cell_type": "code",
   "execution_count": null,
   "metadata": {},
   "outputs": [],
   "source": [
    "def peliculas_duracion( pelicula: str ): \n",
    "    '''  Se ingresa una pelicula. Debe devolver la duracion y el año..\n",
    "    '''\n",
    "    pelicula = pelicula.title().strip()\n",
    "    pelis = movies[['title','runtime','release_year']]\n",
    "    mensaje = \"La pelicula {} no se encuentra en la base de datos\".format(pelicula)\n",
    "\n",
    "\n",
    "\n",
    "    if (pelis['title']==pelicula).any():\n",
    "        pelis = pelis[pelis['title']==pelicula]\n",
    "        duracion = pelis['runtime'].tolist()\n",
    "        anios = pelis['release_year'].tolist()\n",
    "\n",
    "  \n",
    "        data = {\n",
    "            'titulo':pelicula,\n",
    "            'anio': anios, \n",
    "            'duración': duracion}\n",
    "        \n",
    "    else:\n",
    "        data = {mensaje}\n",
    "\n",
    "    return data\n"
   ]
  },
  {
   "cell_type": "code",
   "execution_count": null,
   "metadata": {},
   "outputs": [
    {
     "name": "stdout",
     "output_type": "stream",
     "text": [
      "{'La pelicula Titank no se encuentra en la base de datos'}\n",
      "{'La pelicula Titan no se encuentra en la base de datos'}\n",
      "{'titulo': 'Toy Story', 'anio': [1995], 'duración': [81.0]}\n",
      "{'titulo': 'Toy Story', 'anio': [1995], 'duración': [81.0]}\n",
      "{'titulo': 'Titanic', 'anio': [1997, 1953, 1996], 'duración': [194.0, 98.0, 173.0]}\n"
     ]
    }
   ],
   "source": [
    "print(peliculas_duracion('Titank'))\n",
    "print(peliculas_duracion('Titan'))\n",
    "print(peliculas_duracion('Toy Story '))\n",
    "print(peliculas_duracion('toy story'))\n",
    "print(peliculas_duracion('Titanic'))\n"
   ]
  },
  {
   "cell_type": "markdown",
   "metadata": {},
   "source": [
    "-----------------"
   ]
  },
  {
   "cell_type": "markdown",
   "metadata": {},
   "source": [
    "# 3. función franquicia"
   ]
  },
  {
   "cell_type": "markdown",
   "metadata": {},
   "source": [
    "Se ingresa la franquicia, retornando la cantidad de peliculas, ganancia total y promedio\n",
    "Ejemplo de retorno: La franquicia X posee X peliculas, una ganancia total de x y una ganancia promedio de xx"
   ]
  },
  {
   "cell_type": "markdown",
   "metadata": {},
   "source": [
    "cantidad"
   ]
  },
  {
   "cell_type": "code",
   "execution_count": null,
   "metadata": {},
   "outputs": [
    {
     "data": {
      "text/plain": [
       "0        True\n",
       "1       False\n",
       "2       False\n",
       "3       False\n",
       "4       False\n",
       "        ...  \n",
       "4371    False\n",
       "4372    False\n",
       "4373    False\n",
       "4374    False\n",
       "4375    False\n",
       "Name: name_collection, Length: 4376, dtype: bool"
      ]
     },
     "execution_count": 8,
     "metadata": {},
     "output_type": "execute_result"
    }
   ],
   "source": [
    "collections.name_collection == 'Toy Story Collection'"
   ]
  },
  {
   "cell_type": "code",
   "execution_count": null,
   "metadata": {},
   "outputs": [
    {
     "data": {
      "text/plain": [
       "3"
      ]
     },
     "execution_count": 9,
     "metadata": {},
     "output_type": "execute_result"
    }
   ],
   "source": [
    "(collections.name_collection == 'Toy Story Collection').sum()"
   ]
  },
  {
   "cell_type": "code",
   "execution_count": null,
   "metadata": {},
   "outputs": [
    {
     "data": {
      "text/plain": [
       "id_movie           3\n",
       "name_collection    3\n",
       "revenue            3\n",
       "dtype: int64"
      ]
     },
     "execution_count": 10,
     "metadata": {},
     "output_type": "execute_result"
    }
   ],
   "source": [
    "collections[collections.name_collection == 'Toy Story Collection'].count()"
   ]
  },
  {
   "cell_type": "markdown",
   "metadata": {},
   "source": [
    "ganancia_total"
   ]
  },
  {
   "cell_type": "code",
   "execution_count": null,
   "metadata": {},
   "outputs": [
    {
     "data": {
      "text/plain": [
       "Series([], Name: revenue, dtype: int64)"
      ]
     },
     "execution_count": 11,
     "metadata": {},
     "output_type": "execute_result"
    }
   ],
   "source": [
    "collections['revenue'][collections.name_collection == 'Father of the Bride Collection']"
   ]
  },
  {
   "cell_type": "code",
   "execution_count": null,
   "metadata": {},
   "outputs": [
    {
     "data": {
      "text/plain": [
       "0"
      ]
     },
     "execution_count": 12,
     "metadata": {},
     "output_type": "execute_result"
    }
   ],
   "source": [
    "(collections['revenue'][collections.name_collection == 'Father of the Bride Collection']).sum()"
   ]
  },
  {
   "cell_type": "code",
   "execution_count": null,
   "metadata": {},
   "outputs": [
    {
     "data": {
      "text/plain": [
       "1937890605"
      ]
     },
     "execution_count": 13,
     "metadata": {},
     "output_type": "execute_result"
    }
   ],
   "source": [
    "collections.revenue[collections.name_collection == 'Toy Story Collection'].sum()"
   ]
  },
  {
   "cell_type": "code",
   "execution_count": null,
   "metadata": {},
   "outputs": [],
   "source": [
    "# @app.get('/franquicia/{franquicia}')\n",
    "def franquicia(franquicia:str):\n",
    "    '''Se ingresa la franquicia, retornando la cantidad de peliculas, ganancia total y promedio'''\n",
    "    franquicia = franquicia.title().strip()\n",
    "    cantidad = collections[collections.name_collection == franquicia].shape[0]\n",
    "\n",
    "   \n",
    "    if cantidad == 0:\n",
    "        mensaje = f'La franquicia \"{franquicia}\" no se encuentra en nuestra base de datos. Intente nuevamente.'\n",
    "        out = {mensaje}\n",
    "    else:\n",
    "        ganancia_total = int(collections.revenue[collections.name_collection == franquicia].sum())\n",
    "        ganancia_promedio = ganancia_total/cantidad\n",
    "        out = {'franquicia':franquicia, 'cantidad':cantidad, 'ganancia_total':ganancia_total, 'ganancia_promedio':ganancia_promedio}\n",
    "\n",
    "    return out"
   ]
  },
  {
   "cell_type": "code",
   "execution_count": null,
   "metadata": {},
   "outputs": [
    {
     "name": "stdout",
     "output_type": "stream",
     "text": [
      "{'franquicia': 'Toy Story Collection', 'cantidad': 3, 'ganancia_total': 1937890605, 'ganancia_promedio': 645963535.0}\n",
      "{'franquicia': 'James Bond Collection', 'cantidad': 26, 'ganancia_total': 7106970239, 'ganancia_promedio': 273345009.1923077}\n",
      "{'La franquicia \"James Bond Collections\" no se encuentra en nuestra base de datos. Intente nuevamente.'}\n",
      "{'La franquicia \"James Bond\" no se encuentra en nuestra base de datos. Intente nuevamente.'}\n",
      "{'franquicia': 'Father Of The Bride Collection', 'cantidad': 2, 'ganancia_total': 165904691, 'ganancia_promedio': 82952345.5}\n",
      "{'franquicia': 'James Bond Collection', 'cantidad': 26, 'ganancia_total': 7106970239, 'ganancia_promedio': 273345009.1923077}\n"
     ]
    }
   ],
   "source": [
    "print (franquicia('Toy Story Collection'))\n",
    "print (franquicia('James Bond Collection'))\n",
    "print (franquicia('James Bond Collections'))\n",
    "print (franquicia('James Bond'))\n",
    "print (franquicia('Father of the Bride Collection '))\n",
    "print (franquicia('James bond Collection'))"
   ]
  },
  {
   "cell_type": "markdown",
   "metadata": {},
   "source": [
    "--------------------"
   ]
  },
  {
   "cell_type": "markdown",
   "metadata": {},
   "source": [
    "# 4. función peliculas_pais"
   ]
  },
  {
   "cell_type": "markdown",
   "metadata": {},
   "source": [
    "Se ingresa un país (como están escritos en el dataset), retornando la cantidad de peliculas producidas en el mismo.\n",
    "Ejemplo de retorno: Se produjeron X películas en el país X"
   ]
  },
  {
   "cell_type": "code",
   "execution_count": null,
   "metadata": {},
   "outputs": [],
   "source": [
    "# @app.get('/peliculas_pais/{pais}')\n",
    "def peliculas_pais(pais:str):\n",
    "    '''Ingresas el pais, retornando la cantidad de peliculas producidas en el mismo'''\n",
    "    pais = pais.upper()\n",
    "    cantidad =  int(production_countries.id_production_countries[production_countries.id_production_countries == pais].count())\n",
    "    \n",
    "    return {'pais':pais, 'cantidad':cantidad}"
   ]
  },
  {
   "cell_type": "code",
   "execution_count": null,
   "metadata": {},
   "outputs": [
    {
     "name": "stdout",
     "output_type": "stream",
     "text": [
      "{'pais': 'IT', 'cantidad': 2163}\n",
      "{'pais': 'ES', 'cantidad': 964}\n",
      "{'pais': 'FR', 'cantidad': 3928}\n",
      "{'pais': 'AR', 'cantidad': 254}\n",
      "{'pais': 'A', 'cantidad': 0}\n"
     ]
    }
   ],
   "source": [
    "print (peliculas_pais('IT'))\n",
    "print (peliculas_pais('es'))\n",
    "print (peliculas_pais('FR'))\n",
    "print (peliculas_pais('AR'))\n",
    "print (peliculas_pais('A'))\n"
   ]
  },
  {
   "cell_type": "markdown",
   "metadata": {},
   "source": [
    "Obtener un valor 0 como respuesta indica que esa notación de país no se encuentra en el dataset."
   ]
  },
  {
   "cell_type": "markdown",
   "metadata": {},
   "source": [
    "------"
   ]
  },
  {
   "cell_type": "markdown",
   "metadata": {},
   "source": [
    "# 5. función productoras_exitosas"
   ]
  },
  {
   "cell_type": "markdown",
   "metadata": {},
   "source": [
    "Se ingresa la productora, entregandote el revunue total y la cantidad de peliculas que realizo.\n",
    "Ejemplo de retorno: La productora X ha tenido un revenue de x"
   ]
  },
  {
   "cell_type": "code",
   "execution_count": null,
   "metadata": {},
   "outputs": [
    {
     "data": {
      "text/html": [
       "<div>\n",
       "<style scoped>\n",
       "    .dataframe tbody tr th:only-of-type {\n",
       "        vertical-align: middle;\n",
       "    }\n",
       "\n",
       "    .dataframe tbody tr th {\n",
       "        vertical-align: top;\n",
       "    }\n",
       "\n",
       "    .dataframe thead th {\n",
       "        text-align: right;\n",
       "    }\n",
       "</style>\n",
       "<table border=\"1\" class=\"dataframe\">\n",
       "  <thead>\n",
       "    <tr style=\"text-align: right;\">\n",
       "      <th></th>\n",
       "      <th>id_movie</th>\n",
       "      <th>id_production_companies</th>\n",
       "      <th>name_production_companies</th>\n",
       "      <th>revenue</th>\n",
       "    </tr>\n",
       "  </thead>\n",
       "  <tbody>\n",
       "    <tr>\n",
       "      <th>0</th>\n",
       "      <td>862</td>\n",
       "      <td>3</td>\n",
       "      <td>Pixar Animation Studios</td>\n",
       "      <td>373554033</td>\n",
       "    </tr>\n",
       "    <tr>\n",
       "      <th>1</th>\n",
       "      <td>8844</td>\n",
       "      <td>559</td>\n",
       "      <td>TriStar Pictures</td>\n",
       "      <td>262797249</td>\n",
       "    </tr>\n",
       "    <tr>\n",
       "      <th>2</th>\n",
       "      <td>8844</td>\n",
       "      <td>2550</td>\n",
       "      <td>Teitler Film</td>\n",
       "      <td>262797249</td>\n",
       "    </tr>\n",
       "  </tbody>\n",
       "</table>\n",
       "</div>"
      ],
      "text/plain": [
       "   id_movie  id_production_companies name_production_companies    revenue\n",
       "0       862                        3   Pixar Animation Studios  373554033\n",
       "1      8844                      559          TriStar Pictures  262797249\n",
       "2      8844                     2550              Teitler Film  262797249"
      ]
     },
     "execution_count": 18,
     "metadata": {},
     "output_type": "execute_result"
    }
   ],
   "source": [
    "movies_production_companies.head(3)"
   ]
  },
  {
   "cell_type": "code",
   "execution_count": null,
   "metadata": {},
   "outputs": [],
   "source": [
    "# @app.get('/productoras_exitosas/{productora}')\n",
    "def productoras_exitosas(productora:str):\n",
    "    '''Ingresas la productora, entregandote el revunue total y la cantidad de peliculas que realizo '''\n",
    "    productora = productora.title().strip()\n",
    "\n",
    "    df = movies_production_companies[movies_production_companies.name_production_companies == productora]\n",
    "\n",
    "    revenue_total = int(df.revenue.sum())\n",
    "    cantidad = int(df.revenue.count())\n",
    "\n",
    "    if cantidad == 0:\n",
    "        out = {f'La franquicia \"{franquicia}\" no se encuentra en nuestra base de datos. Intente nuevamente.'}\n",
    "    else:\n",
    "        out = {'productora':productora, 'revenue_total': revenue_total,'cantidad':cantidad}\n",
    "\n",
    "\n",
    "    return out"
   ]
  },
  {
   "cell_type": "code",
   "execution_count": null,
   "metadata": {},
   "outputs": [
    {
     "data": {
      "text/plain": [
       "id_movie                      int64\n",
       "id_production_companies       int64\n",
       "name_production_companies    object\n",
       "revenue                       int64\n",
       "dtype: object"
      ]
     },
     "execution_count": 24,
     "metadata": {},
     "output_type": "execute_result"
    }
   ],
   "source": [
    "movies_production_companies.dtypes"
   ]
  },
  {
   "cell_type": "code",
   "execution_count": null,
   "metadata": {},
   "outputs": [
    {
     "data": {
      "text/plain": [
       "{'productora': 'Pixar Animation Studios',\n",
       " 'revenue_total': 11188533734,\n",
       " 'cantidad': 52}"
      ]
     },
     "execution_count": 43,
     "metadata": {},
     "output_type": "execute_result"
    }
   ],
   "source": [
    "productoras_exitosas('Pixar Animation Studios')"
   ]
  },
  {
   "cell_type": "code",
   "execution_count": null,
   "metadata": {},
   "outputs": [
    {
     "data": {
      "text/plain": [
       "(52, 4)"
      ]
     },
     "execution_count": 21,
     "metadata": {},
     "output_type": "execute_result"
    }
   ],
   "source": [
    "movies_production_companies[movies_production_companies.name_production_companies == 'Pixar Animation Studios'].shape"
   ]
  },
  {
   "cell_type": "markdown",
   "metadata": {},
   "source": [
    "---------"
   ]
  },
  {
   "cell_type": "markdown",
   "metadata": {},
   "source": [
    "# 6. funcion get_director\n",
    "Se ingresa el nombre de un director que se encuentre dentro de un dataset debiendo devolver el éxito del mismo medido a través del retorno. Además, deberá devolver el nombre de cada película con la fecha de lanzamiento, retorno individual, costo y ganancia de la misma, en formato lista."
   ]
  },
  {
   "cell_type": "code",
   "execution_count": null,
   "metadata": {},
   "outputs": [
    {
     "data": {
      "text/html": [
       "<div>\n",
       "<style scoped>\n",
       "    .dataframe tbody tr th:only-of-type {\n",
       "        vertical-align: middle;\n",
       "    }\n",
       "\n",
       "    .dataframe tbody tr th {\n",
       "        vertical-align: top;\n",
       "    }\n",
       "\n",
       "    .dataframe thead th {\n",
       "        text-align: right;\n",
       "    }\n",
       "</style>\n",
       "<table border=\"1\" class=\"dataframe\">\n",
       "  <thead>\n",
       "    <tr style=\"text-align: right;\">\n",
       "      <th></th>\n",
       "      <th>id_director</th>\n",
       "      <th>name</th>\n",
       "      <th>id_movie</th>\n",
       "    </tr>\n",
       "  </thead>\n",
       "  <tbody>\n",
       "    <tr>\n",
       "      <th>0</th>\n",
       "      <td>7879</td>\n",
       "      <td>John Lasseter</td>\n",
       "      <td>862</td>\n",
       "    </tr>\n",
       "    <tr>\n",
       "      <th>1</th>\n",
       "      <td>4945</td>\n",
       "      <td>Joe Johnston</td>\n",
       "      <td>8844</td>\n",
       "    </tr>\n",
       "    <tr>\n",
       "      <th>2</th>\n",
       "      <td>26502</td>\n",
       "      <td>Howard Deutch</td>\n",
       "      <td>15602</td>\n",
       "    </tr>\n",
       "    <tr>\n",
       "      <th>3</th>\n",
       "      <td>2178</td>\n",
       "      <td>Forest Whitaker</td>\n",
       "      <td>31357</td>\n",
       "    </tr>\n",
       "    <tr>\n",
       "      <th>4</th>\n",
       "      <td>56106</td>\n",
       "      <td>Charles Shyer</td>\n",
       "      <td>11862</td>\n",
       "    </tr>\n",
       "    <tr>\n",
       "      <th>...</th>\n",
       "      <td>...</td>\n",
       "      <td>...</td>\n",
       "      <td>...</td>\n",
       "    </tr>\n",
       "    <tr>\n",
       "      <th>48994</th>\n",
       "      <td>1182809</td>\n",
       "      <td>Hamid Nematollah</td>\n",
       "      <td>439050</td>\n",
       "    </tr>\n",
       "    <tr>\n",
       "      <th>48995</th>\n",
       "      <td>1051381</td>\n",
       "      <td>Lav Diaz</td>\n",
       "      <td>111109</td>\n",
       "    </tr>\n",
       "    <tr>\n",
       "      <th>48996</th>\n",
       "      <td>67753</td>\n",
       "      <td>Mark L. Lester</td>\n",
       "      <td>67758</td>\n",
       "    </tr>\n",
       "    <tr>\n",
       "      <th>48997</th>\n",
       "      <td>1085341</td>\n",
       "      <td>Yakov Protazanov</td>\n",
       "      <td>227506</td>\n",
       "    </tr>\n",
       "    <tr>\n",
       "      <th>48998</th>\n",
       "      <td>1344495</td>\n",
       "      <td>Daisy Asquith</td>\n",
       "      <td>461257</td>\n",
       "    </tr>\n",
       "  </tbody>\n",
       "</table>\n",
       "<p>48999 rows × 3 columns</p>\n",
       "</div>"
      ],
      "text/plain": [
       "       id_director              name  id_movie\n",
       "0             7879     John Lasseter       862\n",
       "1             4945      Joe Johnston      8844\n",
       "2            26502     Howard Deutch     15602\n",
       "3             2178   Forest Whitaker     31357\n",
       "4            56106     Charles Shyer     11862\n",
       "...            ...               ...       ...\n",
       "48994      1182809  Hamid Nematollah    439050\n",
       "48995      1051381          Lav Diaz    111109\n",
       "48996        67753    Mark L. Lester     67758\n",
       "48997      1085341  Yakov Protazanov    227506\n",
       "48998      1344495     Daisy Asquith    461257\n",
       "\n",
       "[48999 rows x 3 columns]"
      ]
     },
     "execution_count": 35,
     "metadata": {},
     "output_type": "execute_result"
    }
   ],
   "source": [
    "directors"
   ]
  },
  {
   "cell_type": "code",
   "execution_count": 7,
   "metadata": {},
   "outputs": [
    {
     "data": {
      "text/plain": [
       "True"
      ]
     },
     "execution_count": 7,
     "metadata": {},
     "output_type": "execute_result"
    }
   ],
   "source": [
    "directors[directors.name == 'nombre_director'].empty"
   ]
  },
  {
   "cell_type": "code",
   "execution_count": null,
   "metadata": {},
   "outputs": [],
   "source": [
    "# @app.get('/get_director/{nombre_director}')\n",
    "\n",
    "def get_director( nombre_director ): \n",
    "    ''' Se ingresa el nombre de un director que se encuentre dentro de un dataset debiendo devolver el éxito del mismo medido a través del retorno. \n",
    "    A demás, deberá devolver el nombre de cada película con la fecha de lanzamiento, retorno individual, costo y ganancia de la misma.'''\n",
    "       \n",
    "    nombre_director = nombre_director.title().strip()\n",
    "    \n",
    "    df = directors[directors.name == nombre_director]\n",
    "\n",
    "    if df.empty:\n",
    "        data = {f'No se encontraron directores con el nombre {nombre_director}.'}\n",
    "\n",
    "    else:\n",
    "   \n",
    "        id_director = directors[directors.name == nombre_director].iloc[0,0]\n",
    "\n",
    "        df = (\n",
    "            pd.merge(\n",
    "                directors[directors['id_director'] == id_director],\n",
    "                movies[['id_movie','title','release_year','revenue','budget','return']],\n",
    "                on='id_movie', \n",
    "                how='inner')\n",
    "        )\n",
    "        \n",
    "        retorno_total_director = df['return'].sum()\n",
    "        peliculas = df['title'].tolist()\n",
    "        anios = df['release_year'].tolist()\n",
    "        retorno_peliculas = df['return'].tolist()\n",
    "        budget_peliculas = df['budget'].tolist()\n",
    "        revenue_peliculas = df['revenue'].tolist()\n",
    "\n",
    "        data = {\n",
    "            'director':nombre_director, \n",
    "            'retorno_total_director':retorno_total_director, \n",
    "            'peliculas':peliculas, \n",
    "            'anio':anios, \n",
    "            'retorno_pelicula':retorno_peliculas, \n",
    "            'budget_pelicula':budget_peliculas, \n",
    "            'revenue_pelicula':revenue_peliculas}\n",
    "\n",
    "    return data"
   ]
  },
  {
   "cell_type": "code",
   "execution_count": null,
   "metadata": {},
   "outputs": [
    {
     "name": "stdout",
     "output_type": "stream",
     "text": [
      "{'No se encontraron directores con el nombre John Lassiiiii.'}\n",
      "{'director': 'Lav Diaz', 'retorno_total_director': 0.0, 'peliculas': ['Norte, The End Of History', 'Butterflies Have No Memories', 'Naked Under The Moon', 'Century Of Birthing'], 'anio': [2013, 2009, 1999, 2011], 'retorno_pelicula': [0.0, 0.0, 0.0, 0.0], 'budget_pelicula': [0, 0, 0, 0], 'revenue_pelicula': [0, 0, 0, 0]}\n",
      "{'director': 'Forest Whitaker', 'retorno_total_director': 0.1964343337946757, 'peliculas': ['Waiting To Exhale', 'Hope Floats', 'First Daughter', 'Strapped'], 'anio': [1995, 1998, 2004, 1993], 'retorno_pelicula': [0.1964343337946757, 0.0, 0.0, 0.0], 'budget_pelicula': [16000000, 0, 30000000, 0], 'revenue_pelicula': [81452156, 0, 0, 0]}\n",
      "{'No se encontraron directores con el nombre Jo Fer.'}\n"
     ]
    }
   ],
   "source": [
    "print (get_director('John Lassiiiii'))\n",
    "print (get_director('Lav Diaz'))\n",
    "print (get_director('Forest Whitaker '))\n",
    "print (get_director('Jo fer'))"
   ]
  }
 ],
 "metadata": {
  "kernelspec": {
   "display_name": "Python 3",
   "language": "python",
   "name": "python3"
  },
  "language_info": {
   "codemirror_mode": {
    "name": "ipython",
    "version": 3
   },
   "file_extension": ".py",
   "mimetype": "text/x-python",
   "name": "python",
   "nbconvert_exporter": "python",
   "pygments_lexer": "ipython3",
   "version": "3.11.0"
  },
  "orig_nbformat": 4
 },
 "nbformat": 4,
 "nbformat_minor": 2
}
