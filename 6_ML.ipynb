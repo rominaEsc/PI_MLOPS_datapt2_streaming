{
 "cells": [
  {
   "cell_type": "code",
   "execution_count": 278,
   "metadata": {},
   "outputs": [],
   "source": [
    "import pandas as pd\n",
    "import numpy as np\n",
    "from wordcloud import WordCloud, STOPWORDS\n",
    "\n",
    "from sklearn.feature_extraction.text import TfidfVectorizer, CountVectorizer\n",
    "from sklearn.metrics.pairwise import linear_kernel\n",
    "from pprint import pprint\n",
    "\n",
    "import matplotlib.pyplot as plt\n",
    "import seaborn as sns\n"
   ]
  },
  {
   "cell_type": "code",
   "execution_count": 279,
   "metadata": {},
   "outputs": [],
   "source": [
    "movies = pd.read_csv(\"data/movies_3.csv\", sep=\",\")\n",
    "directors = pd.read_csv(\"data/directors.csv\", sep=\",\")\n",
    "ml_genres = pd.read_csv(\"data/ml_genres.csv\", sep=\",\")"
   ]
  },
  {
   "cell_type": "code",
   "execution_count": 280,
   "metadata": {},
   "outputs": [
    {
     "data": {
      "text/html": [
       "<div>\n",
       "<style scoped>\n",
       "    .dataframe tbody tr th:only-of-type {\n",
       "        vertical-align: middle;\n",
       "    }\n",
       "\n",
       "    .dataframe tbody tr th {\n",
       "        vertical-align: top;\n",
       "    }\n",
       "\n",
       "    .dataframe thead th {\n",
       "        text-align: right;\n",
       "    }\n",
       "</style>\n",
       "<table border=\"1\" class=\"dataframe\">\n",
       "  <thead>\n",
       "    <tr style=\"text-align: right;\">\n",
       "      <th></th>\n",
       "      <th>title</th>\n",
       "      <th>id_movie</th>\n",
       "      <th>genres</th>\n",
       "    </tr>\n",
       "  </thead>\n",
       "  <tbody>\n",
       "    <tr>\n",
       "      <th>0</th>\n",
       "      <td>!Women Art Revolution</td>\n",
       "      <td>55245</td>\n",
       "      <td>Documentary</td>\n",
       "    </tr>\n",
       "    <tr>\n",
       "      <th>1</th>\n",
       "      <td>#1 Cheerleader Camp</td>\n",
       "      <td>41371</td>\n",
       "      <td>Comedy Drama</td>\n",
       "    </tr>\n",
       "    <tr>\n",
       "      <th>2</th>\n",
       "      <td>#Chicagogirl</td>\n",
       "      <td>267752</td>\n",
       "      <td>Documentary</td>\n",
       "    </tr>\n",
       "    <tr>\n",
       "      <th>3</th>\n",
       "      <td>#Horror</td>\n",
       "      <td>301325</td>\n",
       "      <td>Drama Mystery Horror Thriller</td>\n",
       "    </tr>\n",
       "    <tr>\n",
       "      <th>4</th>\n",
       "      <td>$1,000 On The Black</td>\n",
       "      <td>143747</td>\n",
       "      <td>Western</td>\n",
       "    </tr>\n",
       "    <tr>\n",
       "      <th>...</th>\n",
       "      <td>...</td>\n",
       "      <td>...</td>\n",
       "      <td>...</td>\n",
       "    </tr>\n",
       "    <tr>\n",
       "      <th>42944</th>\n",
       "      <td>Юленька</td>\n",
       "      <td>44839</td>\n",
       "      <td>Thriller Drama Horror</td>\n",
       "    </tr>\n",
       "    <tr>\n",
       "      <th>42945</th>\n",
       "      <td>هیچ کجا هیچ کس</td>\n",
       "      <td>388182</td>\n",
       "      <td>Mystery Crime Drama</td>\n",
       "    </tr>\n",
       "    <tr>\n",
       "      <th>42946</th>\n",
       "      <td>’Round Midnight</td>\n",
       "      <td>14670</td>\n",
       "      <td>Drama</td>\n",
       "    </tr>\n",
       "    <tr>\n",
       "      <th>42947</th>\n",
       "      <td>…And The Fifth Horseman Is Fear</td>\n",
       "      <td>109380</td>\n",
       "      <td>Drama War</td>\n",
       "    </tr>\n",
       "    <tr>\n",
       "      <th>42948</th>\n",
       "      <td>ファンタスティポ</td>\n",
       "      <td>252874</td>\n",
       "      <td>Comedy</td>\n",
       "    </tr>\n",
       "  </tbody>\n",
       "</table>\n",
       "<p>42949 rows × 3 columns</p>\n",
       "</div>"
      ],
      "text/plain": [
       "                                 title  id_movie  \\\n",
       "0                !Women Art Revolution     55245   \n",
       "1                  #1 Cheerleader Camp     41371   \n",
       "2                         #Chicagogirl    267752   \n",
       "3                              #Horror    301325   \n",
       "4                  $1,000 On The Black    143747   \n",
       "...                                ...       ...   \n",
       "42944                          Юленька     44839   \n",
       "42945                   هیچ کجا هیچ کس    388182   \n",
       "42946                  ’Round Midnight     14670   \n",
       "42947  …And The Fifth Horseman Is Fear    109380   \n",
       "42948                         ファンタスティポ    252874   \n",
       "\n",
       "                              genres  \n",
       "0                        Documentary  \n",
       "1                       Comedy Drama  \n",
       "2                        Documentary  \n",
       "3      Drama Mystery Horror Thriller  \n",
       "4                            Western  \n",
       "...                              ...  \n",
       "42944          Thriller Drama Horror  \n",
       "42945            Mystery Crime Drama  \n",
       "42946                          Drama  \n",
       "42947                      Drama War  \n",
       "42948                         Comedy  \n",
       "\n",
       "[42949 rows x 3 columns]"
      ]
     },
     "execution_count": 280,
     "metadata": {},
     "output_type": "execute_result"
    }
   ],
   "source": [
    "ml_genres"
   ]
  },
  {
   "cell_type": "code",
   "execution_count": 281,
   "metadata": {},
   "outputs": [
    {
     "name": "stdout",
     "output_type": "stream",
     "text": [
      "<class 'pandas.core.frame.DataFrame'>\n",
      "RangeIndex: 45333 entries, 0 to 45332\n",
      "Data columns (total 17 columns):\n",
      " #   Column             Non-Null Count  Dtype  \n",
      "---  ------             --------------  -----  \n",
      " 0   id_movie           45333 non-null  int64  \n",
      " 1   title              45333 non-null  object \n",
      " 2   tagline            20381 non-null  object \n",
      " 3   overview           44392 non-null  object \n",
      " 4   runtime            45087 non-null  float64\n",
      " 5   release_date       45333 non-null  object \n",
      " 6   release_year       45333 non-null  int64  \n",
      " 7   status             45253 non-null  object \n",
      " 8   original_language  45322 non-null  object \n",
      " 9   popularity         45333 non-null  float64\n",
      " 10  vote_average       45333 non-null  int64  \n",
      " 11  vote_count         45333 non-null  int64  \n",
      " 12  budget             45333 non-null  int64  \n",
      " 13  revenue            45333 non-null  int64  \n",
      " 14  return             45333 non-null  float64\n",
      " 15  name_collection    4376 non-null   object \n",
      " 16  id_collection      4483 non-null   float64\n",
      "dtypes: float64(4), int64(6), object(7)\n",
      "memory usage: 5.9+ MB\n"
     ]
    }
   ],
   "source": [
    "movies.info()"
   ]
  },
  {
   "cell_type": "code",
   "execution_count": 282,
   "metadata": {},
   "outputs": [
    {
     "data": {
      "text/html": [
       "<div>\n",
       "<style scoped>\n",
       "    .dataframe tbody tr th:only-of-type {\n",
       "        vertical-align: middle;\n",
       "    }\n",
       "\n",
       "    .dataframe tbody tr th {\n",
       "        vertical-align: top;\n",
       "    }\n",
       "\n",
       "    .dataframe thead th {\n",
       "        text-align: right;\n",
       "    }\n",
       "</style>\n",
       "<table border=\"1\" class=\"dataframe\">\n",
       "  <thead>\n",
       "    <tr style=\"text-align: right;\">\n",
       "      <th></th>\n",
       "      <th>id_movie</th>\n",
       "      <th>runtime</th>\n",
       "      <th>release_year</th>\n",
       "      <th>popularity</th>\n",
       "      <th>vote_average</th>\n",
       "      <th>vote_count</th>\n",
       "      <th>budget</th>\n",
       "      <th>revenue</th>\n",
       "      <th>return</th>\n",
       "      <th>id_collection</th>\n",
       "    </tr>\n",
       "  </thead>\n",
       "  <tbody>\n",
       "    <tr>\n",
       "      <th>count</th>\n",
       "      <td>45333.000000</td>\n",
       "      <td>45087.000000</td>\n",
       "      <td>45333.000000</td>\n",
       "      <td>45333.000000</td>\n",
       "      <td>45333.000000</td>\n",
       "      <td>45333.000000</td>\n",
       "      <td>4.533300e+04</td>\n",
       "      <td>4.533300e+04</td>\n",
       "      <td>4.533300e+04</td>\n",
       "      <td>4483.000000</td>\n",
       "    </tr>\n",
       "    <tr>\n",
       "      <th>mean</th>\n",
       "      <td>108058.249642</td>\n",
       "      <td>94.175882</td>\n",
       "      <td>1991.882536</td>\n",
       "      <td>2.925689</td>\n",
       "      <td>5.250369</td>\n",
       "      <td>110.149207</td>\n",
       "      <td>4.230989e+06</td>\n",
       "      <td>1.123304e+07</td>\n",
       "      <td>1.578364e+02</td>\n",
       "      <td>184212.998885</td>\n",
       "    </tr>\n",
       "    <tr>\n",
       "      <th>std</th>\n",
       "      <td>112196.879634</td>\n",
       "      <td>38.351846</td>\n",
       "      <td>24.053205</td>\n",
       "      <td>6.011321</td>\n",
       "      <td>1.858919</td>\n",
       "      <td>491.967458</td>\n",
       "      <td>1.744452e+07</td>\n",
       "      <td>6.441813e+07</td>\n",
       "      <td>1.313633e+04</td>\n",
       "      <td>141638.033338</td>\n",
       "    </tr>\n",
       "    <tr>\n",
       "      <th>min</th>\n",
       "      <td>2.000000</td>\n",
       "      <td>0.000000</td>\n",
       "      <td>1874.000000</td>\n",
       "      <td>0.000000</td>\n",
       "      <td>0.000000</td>\n",
       "      <td>0.000000</td>\n",
       "      <td>0.000000e+00</td>\n",
       "      <td>0.000000e+00</td>\n",
       "      <td>0.000000e+00</td>\n",
       "      <td>10.000000</td>\n",
       "    </tr>\n",
       "    <tr>\n",
       "      <th>25%</th>\n",
       "      <td>26398.000000</td>\n",
       "      <td>85.000000</td>\n",
       "      <td>1978.000000</td>\n",
       "      <td>0.388631</td>\n",
       "      <td>5.000000</td>\n",
       "      <td>3.000000</td>\n",
       "      <td>0.000000e+00</td>\n",
       "      <td>0.000000e+00</td>\n",
       "      <td>0.000000e+00</td>\n",
       "      <td>86027.500000</td>\n",
       "    </tr>\n",
       "    <tr>\n",
       "      <th>50%</th>\n",
       "      <td>59853.000000</td>\n",
       "      <td>95.000000</td>\n",
       "      <td>2001.000000</td>\n",
       "      <td>1.129891</td>\n",
       "      <td>6.000000</td>\n",
       "      <td>10.000000</td>\n",
       "      <td>0.000000e+00</td>\n",
       "      <td>0.000000e+00</td>\n",
       "      <td>0.000000e+00</td>\n",
       "      <td>141615.000000</td>\n",
       "    </tr>\n",
       "    <tr>\n",
       "      <th>75%</th>\n",
       "      <td>156700.000000</td>\n",
       "      <td>107.000000</td>\n",
       "      <td>2010.000000</td>\n",
       "      <td>3.687905</td>\n",
       "      <td>6.000000</td>\n",
       "      <td>34.000000</td>\n",
       "      <td>0.000000e+00</td>\n",
       "      <td>0.000000e+00</td>\n",
       "      <td>0.000000e+00</td>\n",
       "      <td>294179.500000</td>\n",
       "    </tr>\n",
       "    <tr>\n",
       "      <th>max</th>\n",
       "      <td>469172.000000</td>\n",
       "      <td>1256.000000</td>\n",
       "      <td>2020.000000</td>\n",
       "      <td>547.488298</td>\n",
       "      <td>10.000000</td>\n",
       "      <td>14075.000000</td>\n",
       "      <td>3.800000e+08</td>\n",
       "      <td>2.787965e+09</td>\n",
       "      <td>1.916667e+06</td>\n",
       "      <td>480160.000000</td>\n",
       "    </tr>\n",
       "  </tbody>\n",
       "</table>\n",
       "</div>"
      ],
      "text/plain": [
       "            id_movie       runtime  release_year    popularity  vote_average  \\\n",
       "count   45333.000000  45087.000000  45333.000000  45333.000000  45333.000000   \n",
       "mean   108058.249642     94.175882   1991.882536      2.925689      5.250369   \n",
       "std    112196.879634     38.351846     24.053205      6.011321      1.858919   \n",
       "min         2.000000      0.000000   1874.000000      0.000000      0.000000   \n",
       "25%     26398.000000     85.000000   1978.000000      0.388631      5.000000   \n",
       "50%     59853.000000     95.000000   2001.000000      1.129891      6.000000   \n",
       "75%    156700.000000    107.000000   2010.000000      3.687905      6.000000   \n",
       "max    469172.000000   1256.000000   2020.000000    547.488298     10.000000   \n",
       "\n",
       "         vote_count        budget       revenue        return  id_collection  \n",
       "count  45333.000000  4.533300e+04  4.533300e+04  4.533300e+04    4483.000000  \n",
       "mean     110.149207  4.230989e+06  1.123304e+07  1.578364e+02  184212.998885  \n",
       "std      491.967458  1.744452e+07  6.441813e+07  1.313633e+04  141638.033338  \n",
       "min        0.000000  0.000000e+00  0.000000e+00  0.000000e+00      10.000000  \n",
       "25%        3.000000  0.000000e+00  0.000000e+00  0.000000e+00   86027.500000  \n",
       "50%       10.000000  0.000000e+00  0.000000e+00  0.000000e+00  141615.000000  \n",
       "75%       34.000000  0.000000e+00  0.000000e+00  0.000000e+00  294179.500000  \n",
       "max    14075.000000  3.800000e+08  2.787965e+09  1.916667e+06  480160.000000  "
      ]
     },
     "execution_count": 282,
     "metadata": {},
     "output_type": "execute_result"
    }
   ],
   "source": [
    "movies.describe()"
   ]
  },
  {
   "attachments": {},
   "cell_type": "markdown",
   "metadata": {},
   "source": [
    "Podemos ver que mas del 75% de las peliculas tienen un return = 0 por lo que utilizaremos este dato para filtrar las peliculas con las que entrenaremos nuestro modelo."
   ]
  },
  {
   "cell_type": "code",
   "execution_count": 283,
   "metadata": {},
   "outputs": [
    {
     "data": {
      "text/plain": [
       "(11333, 17)"
      ]
     },
     "execution_count": 283,
     "metadata": {},
     "output_type": "execute_result"
    }
   ],
   "source": [
    "movies = movies[movies['popularity'] > 3.687905]\n",
    "movies.shape"
   ]
  },
  {
   "cell_type": "code",
   "execution_count": 284,
   "metadata": {},
   "outputs": [
    {
     "data": {
      "text/plain": [
       "Index(['title', 'id_movie', 'genres'], dtype='object')"
      ]
     },
     "execution_count": 284,
     "metadata": {},
     "output_type": "execute_result"
    }
   ],
   "source": [
    "ml_genres.columns"
   ]
  },
  {
   "cell_type": "code",
   "execution_count": 285,
   "metadata": {},
   "outputs": [
    {
     "data": {
      "text/plain": [
       "Index(['id_director', 'name', 'id_movie'], dtype='object')"
      ]
     },
     "execution_count": 285,
     "metadata": {},
     "output_type": "execute_result"
    }
   ],
   "source": [
    "directors.columns"
   ]
  },
  {
   "cell_type": "code",
   "execution_count": 286,
   "metadata": {},
   "outputs": [],
   "source": [
    "sist_recomendacion_df =(\n",
    "     pd.merge(\n",
    "         ml_genres,\n",
    "         directors,\n",
    "         on = 'id_movie',\n",
    "         how='inner')\n",
    "     )"
   ]
  },
  {
   "cell_type": "code",
   "execution_count": 287,
   "metadata": {},
   "outputs": [],
   "source": [
    "sist_recomendacion_df = sist_recomendacion_df[sist_recomendacion_df.id_movie.isin(movies.id_movie.tolist())].reset_index(drop =True)"
   ]
  },
  {
   "cell_type": "code",
   "execution_count": 288,
   "metadata": {},
   "outputs": [
    {
     "name": "stdout",
     "output_type": "stream",
     "text": [
      "0\n"
     ]
    }
   ],
   "source": [
    "print(\n",
    "    sist_recomendacion_df\n",
    "    .duplicated()\n",
    "    .sum()\n",
    ")"
   ]
  },
  {
   "cell_type": "code",
   "execution_count": 289,
   "metadata": {},
   "outputs": [
    {
     "name": "stdout",
     "output_type": "stream",
     "text": [
      "title          0\n",
      "id_movie       0\n",
      "genres         0\n",
      "id_director    0\n",
      "name           0\n",
      "dtype: int64\n",
      "(12392, 5)\n"
     ]
    }
   ],
   "source": [
    "print(\n",
    "    sist_recomendacion_df\n",
    "    .isnull()\n",
    "    .sum()\n",
    ")\n",
    "print (sist_recomendacion_df.shape)"
   ]
  },
  {
   "cell_type": "code",
   "execution_count": 290,
   "metadata": {},
   "outputs": [],
   "source": [
    "sist_recomendacion_df['title'] = sist_recomendacion_df['title'].astype('str').str.title().str.strip()\n",
    "sist_recomendacion_df['genres']= sist_recomendacion_df ['genres'].astype('str')\n",
    "sist_recomendacion_df['name'] = sist_recomendacion_df['name'].astype('str')\n",
    "\n",
    "sist_recomendacion_df['text'] = sist_recomendacion_df['name']+  sist_recomendacion_df['genres']\n",
    "\n",
    "df = sist_recomendacion_df[['title', 'text']]\n",
    "\n",
    "df.to_csv(\"data/df.csv\",index=False)"
   ]
  },
  {
   "cell_type": "code",
   "execution_count": 291,
   "metadata": {},
   "outputs": [
    {
     "data": {
      "text/html": [
       "<div>\n",
       "<style scoped>\n",
       "    .dataframe tbody tr th:only-of-type {\n",
       "        vertical-align: middle;\n",
       "    }\n",
       "\n",
       "    .dataframe tbody tr th {\n",
       "        vertical-align: top;\n",
       "    }\n",
       "\n",
       "    .dataframe thead th {\n",
       "        text-align: right;\n",
       "    }\n",
       "</style>\n",
       "<table border=\"1\" class=\"dataframe\">\n",
       "  <thead>\n",
       "    <tr style=\"text-align: right;\">\n",
       "      <th></th>\n",
       "      <th>title</th>\n",
       "      <th>text</th>\n",
       "    </tr>\n",
       "  </thead>\n",
       "  <tbody>\n",
       "    <tr>\n",
       "      <th>0</th>\n",
       "      <td>'71</td>\n",
       "      <td>Yann DemangeThriller Action Drama War</td>\n",
       "    </tr>\n",
       "    <tr>\n",
       "      <th>1</th>\n",
       "      <td>(500) Days Of Summer</td>\n",
       "      <td>Marc WebbComedy Drama Romance</td>\n",
       "    </tr>\n",
       "    <tr>\n",
       "      <th>2</th>\n",
       "      <td>(Untitled)</td>\n",
       "      <td>Jonathan ParkerDrama Comedy Romance</td>\n",
       "    </tr>\n",
       "    <tr>\n",
       "      <th>3</th>\n",
       "      <td>+1</td>\n",
       "      <td>Dennis IliadisThriller Science Fiction</td>\n",
       "    </tr>\n",
       "    <tr>\n",
       "      <th>4</th>\n",
       "      <td>...And Justice For All</td>\n",
       "      <td>Norman JewisonCrime Drama Mystery Thriller</td>\n",
       "    </tr>\n",
       "    <tr>\n",
       "      <th>...</th>\n",
       "      <td>...</td>\n",
       "      <td>...</td>\n",
       "    </tr>\n",
       "    <tr>\n",
       "      <th>12387</th>\n",
       "      <td>[Rec]²</td>\n",
       "      <td>Paco PlazaThriller Horror</td>\n",
       "    </tr>\n",
       "    <tr>\n",
       "      <th>12388</th>\n",
       "      <td>[Rec]³ Genesis</td>\n",
       "      <td>Paco PlazaHorror</td>\n",
       "    </tr>\n",
       "    <tr>\n",
       "      <th>12389</th>\n",
       "      <td>[Rec]⁴ Apocalypse</td>\n",
       "      <td>Jaume BalagueróThriller Horror</td>\n",
       "    </tr>\n",
       "    <tr>\n",
       "      <th>12390</th>\n",
       "      <td>¡Three Amigos!</td>\n",
       "      <td>John LandisComedy Western</td>\n",
       "    </tr>\n",
       "    <tr>\n",
       "      <th>12391</th>\n",
       "      <td>Æon Flux</td>\n",
       "      <td>Karyn KusamaAction Science Fiction</td>\n",
       "    </tr>\n",
       "  </tbody>\n",
       "</table>\n",
       "<p>12392 rows × 2 columns</p>\n",
       "</div>"
      ],
      "text/plain": [
       "                        title                                        text\n",
       "0                         '71       Yann DemangeThriller Action Drama War\n",
       "1        (500) Days Of Summer               Marc WebbComedy Drama Romance\n",
       "2                  (Untitled)         Jonathan ParkerDrama Comedy Romance\n",
       "3                          +1      Dennis IliadisThriller Science Fiction\n",
       "4      ...And Justice For All  Norman JewisonCrime Drama Mystery Thriller\n",
       "...                       ...                                         ...\n",
       "12387                  [Rec]²                   Paco PlazaThriller Horror\n",
       "12388          [Rec]³ Genesis                            Paco PlazaHorror\n",
       "12389       [Rec]⁴ Apocalypse              Jaume BalagueróThriller Horror\n",
       "12390          ¡Three Amigos!                   John LandisComedy Western\n",
       "12391                Æon Flux          Karyn KusamaAction Science Fiction\n",
       "\n",
       "[12392 rows x 2 columns]"
      ]
     },
     "execution_count": 291,
     "metadata": {},
     "output_type": "execute_result"
    }
   ],
   "source": [
    "df"
   ]
  },
  {
   "attachments": {},
   "cell_type": "markdown",
   "metadata": {},
   "source": [
    "---"
   ]
  },
  {
   "attachments": {},
   "cell_type": "markdown",
   "metadata": {},
   "source": [
    "# Sistema de Recomendación"
   ]
  },
  {
   "cell_type": "code",
   "execution_count": 292,
   "metadata": {},
   "outputs": [],
   "source": [
    "# Instanciamos el CV\n",
    "vectorizer = CountVectorizer()\n",
    "stopwords = STOPWORDS\n",
    "# eliminamos las \"stop words\", palabras comunes no informativas\n",
    "tf = TfidfVectorizer(stop_words='english')\n",
    "\n",
    "# calculamos los features para cada ítem (texto)\n",
    "tfidf_matrix = tf.fit_transform(df['text'])\n",
    "\n",
    "# calculamos las similitudes entre todos los documentos\n",
    "cosine_similarities = linear_kernel(tfidf_matrix, tfidf_matrix)\n",
    "n = 5\n",
    "\n",
    "results = {} \n",
    "for idx, row in df.iterrows():\n",
    "    # guardamos los indices similares basados en la similitud coseno. Los ordenamos en modo ascendente, siendo 0 nada de similitud y 1 total\n",
    "    similar_indices = cosine_similarities[idx].argsort()[:-n-2:-1] \n",
    "    # guardamos los N más cercanos\n",
    "    similar_items = [(f\"{df.loc[i, 'title']}\") for i in similar_indices]\n",
    "    results[f\"{row['title']}\"] = similar_items[1:]\n"
   ]
  },
  {
   "cell_type": "code",
   "execution_count": 293,
   "metadata": {},
   "outputs": [
    {
     "name": "stdout",
     "output_type": "stream",
     "text": [
      "['Toy Story', 'Mater And The Ghostlight', 'Cars', 'Cars 2', 'Tin Toy']\n",
      "[\"Lemony Snicket'S A Series Of Unfortunate Events\",\n",
      " 'The Incredibles',\n",
      " 'Casper',\n",
      " 'Ratatouille',\n",
      " 'Mission: Impossible - Ghost Protocol']\n",
      "['Johnny Belinda',\n",
      " 'How To Marry A Millionaire',\n",
      " 'Torn Apart',\n",
      " 'The Rules Of The Game',\n",
      " 'Beauty And The Beast']\n"
     ]
    }
   ],
   "source": [
    "pprint(results['Toy Story'])\n",
    "pprint(results['Cars 2'])\n",
    "pprint(results[\"Titanic\"])"
   ]
  },
  {
   "attachments": {},
   "cell_type": "markdown",
   "metadata": {},
   "source": [
    "-----------"
   ]
  },
  {
   "cell_type": "code",
   "execution_count": 296,
   "metadata": {},
   "outputs": [],
   "source": [
    "# ML\n",
    "# @app.get('/recomendacion/{titulo}')\n",
    "def recomendacion(titulo:str):\n",
    "    '''Ingresas un nombre de pelicula y te recomienda las similares en una lista'''\n",
    "    if df['title'].str.contains(titulo).any():\n",
    "        titulo = titulo.title().strip()\n",
    "        lista = (results[titulo])\n",
    "        data = {'titulo':titulo , 'lista recomendada': lista}\n",
    "    else:\n",
    "        mensaje = \"La pelicula {} no se encuentra en la base de datos.\".format(titulo)\n",
    "        data = {'actor':[mensaje] }    \n",
    "    return data"
   ]
  },
  {
   "cell_type": "code",
   "execution_count": 297,
   "metadata": {},
   "outputs": [
    {
     "data": {
      "text/plain": [
       "{'titulo': 'Toy Story 2',\n",
       " 'lista recomendada': ['Toy Story',\n",
       "  'Mater And The Ghostlight',\n",
       "  'Cars',\n",
       "  'Cars 2',\n",
       "  'Tin Toy']}"
      ]
     },
     "execution_count": 297,
     "metadata": {},
     "output_type": "execute_result"
    }
   ],
   "source": [
    "recomendacion('Toy Story 2')"
   ]
  }
 ],
 "metadata": {
  "kernelspec": {
   "display_name": "Python 3",
   "language": "python",
   "name": "python3"
  },
  "language_info": {
   "codemirror_mode": {
    "name": "ipython",
    "version": 3
   },
   "file_extension": ".py",
   "mimetype": "text/x-python",
   "name": "python",
   "nbconvert_exporter": "python",
   "pygments_lexer": "ipython3",
   "version": "3.11.0"
  },
  "orig_nbformat": 4
 },
 "nbformat": 4,
 "nbformat_minor": 2
}
