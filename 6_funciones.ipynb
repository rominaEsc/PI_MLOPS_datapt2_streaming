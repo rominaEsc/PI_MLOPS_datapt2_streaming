{
 "cells": [
  {
   "cell_type": "markdown",
   "metadata": {},
   "source": [
    "# CORREGIR\n",
    "1. ERROR 500\n",
    "2. NO ME TOMA Toy story. ver que me lo tome\n",
    "3. Toy Story Collection no se encuentra y con s no se encuentra\n"
   ]
  },
  {
   "cell_type": "markdown",
   "metadata": {},
   "source": [
    "Una de las consignas de este proyecto es crear 6 funciones para los endpoints que se consumirán en la API.\n",
    "Esas funciones son: \n",
    "\n",
    "(ok) def peliculas_idioma( Idioma: str ): Se ingresa un idioma (como están escritos en el dataset, no hay que traducirlos!). Debe devolver la cantidad de películas producidas en ese idioma.\n",
    "                    Ejemplo de retorno: X cantidad de películas fueron estrenadas en idioma\n",
    "\n",
    "(Mejorar) def peliculas_duracion( Pelicula: str ): Se ingresa una pelicula. Debe devolver la duracion y el año.\n",
    "                    Ejemplo de retorno: X . Duración: x. Año: xx\n",
    "\n",
    "() def franquicia( Franquicia: str ): Se ingresa la franquicia, retornando la cantidad de peliculas, ganancia total y promedio\n",
    "                    Ejemplo de retorno: La franquicia X posee X peliculas, una ganancia total de x y una ganancia promedio de xx\n",
    "\n",
    "() def peliculas_pais( Pais: str ): Se ingresa un país (como están escritos en el dataset, no hay que traducirlos!), retornando la cantidad de peliculas producidas en el mismo.\n",
    "                    Ejemplo de retorno: Se produjeron X películas en el país X\n",
    "\n",
    "() def productoras_exitosas( Productora: str ): Se ingresa la productora, entregandote el revunue total y la cantidad de peliculas que realizo.\n",
    "                    Ejemplo de retorno: La productora X ha tenido un revenue de x\n",
    "\n",
    "() def get_director( nombre_director ): Se ingresa el nombre de un director que se encuentre dentro de un dataset debiendo devolver el éxito del mismo medido a través del retorno. Además, deberá devolver el nombre de cada película con la fecha de lanzamiento, retorno individual, costo y ganancia de la misma, en formato lista."
   ]
  },
  {
   "cell_type": "markdown",
   "metadata": {},
   "source": [
    "Carga de librerias y dfs"
   ]
  },
  {
   "cell_type": "code",
   "execution_count": 1,
   "metadata": {},
   "outputs": [],
   "source": [
    "import pandas as pd\n",
    "import numpy as np\n",
    "import matplotlib.pyplot as plt\n",
    "\n",
    "# Establecer la opción para mostrar todas las columnas\n",
    "pd.set_option('display.max_columns', None)"
   ]
  },
  {
   "cell_type": "code",
   "execution_count": 2,
   "metadata": {},
   "outputs": [],
   "source": [
    "collections = pd.read_csv('data/collections.csv',low_memory=False)\n",
    "directors = pd.read_csv(\"data/directors.csv\", sep=\",\")\n",
    "movies = pd.read_csv('data/movies_3.csv',low_memory=False)\n",
    "movies_production_companies = pd.read_csv(\"data/movies_production_companies.csv\", sep=\",\")\n",
    "original_language = pd.read_csv('data/original_language.csv',low_memory=False)\n",
    "production_countries = pd.read_csv(\"data/movies_production_countries.csv\", sep=\",\")"
   ]
  },
  {
   "cell_type": "markdown",
   "metadata": {},
   "source": [
    "-----"
   ]
  },
  {
   "cell_type": "markdown",
   "metadata": {},
   "source": [
    "# 1 . función peliculas_idioma"
   ]
  },
  {
   "cell_type": "markdown",
   "metadata": {},
   "source": [
    "Se ingresa un idioma (como están escritos en el dataset, no hay que traducirlos!). Debe devolver la cantidad de películas producidas en ese idioma.\n",
    "Ejemplo de retorno: X cantidad de películas fueron estrenadas en idioma\n"
   ]
  },
  {
   "cell_type": "code",
   "execution_count": 3,
   "metadata": {},
   "outputs": [
    {
     "data": {
      "text/html": [
       "<div>\n",
       "<style scoped>\n",
       "    .dataframe tbody tr th:only-of-type {\n",
       "        vertical-align: middle;\n",
       "    }\n",
       "\n",
       "    .dataframe tbody tr th {\n",
       "        vertical-align: top;\n",
       "    }\n",
       "\n",
       "    .dataframe thead th {\n",
       "        text-align: right;\n",
       "    }\n",
       "</style>\n",
       "<table border=\"1\" class=\"dataframe\">\n",
       "  <thead>\n",
       "    <tr style=\"text-align: right;\">\n",
       "      <th></th>\n",
       "      <th>id_movie</th>\n",
       "      <th>title</th>\n",
       "      <th>original_language</th>\n",
       "    </tr>\n",
       "  </thead>\n",
       "  <tbody>\n",
       "    <tr>\n",
       "      <th>0</th>\n",
       "      <td>862</td>\n",
       "      <td>Toy Story</td>\n",
       "      <td>en</td>\n",
       "    </tr>\n",
       "    <tr>\n",
       "      <th>1</th>\n",
       "      <td>8844</td>\n",
       "      <td>Jumanji</td>\n",
       "      <td>en</td>\n",
       "    </tr>\n",
       "    <tr>\n",
       "      <th>2</th>\n",
       "      <td>15602</td>\n",
       "      <td>Grumpier Old Men</td>\n",
       "      <td>en</td>\n",
       "    </tr>\n",
       "    <tr>\n",
       "      <th>3</th>\n",
       "      <td>31357</td>\n",
       "      <td>Waiting To Exhale</td>\n",
       "      <td>en</td>\n",
       "    </tr>\n",
       "    <tr>\n",
       "      <th>4</th>\n",
       "      <td>11862</td>\n",
       "      <td>Father Of The Bride Part Ii</td>\n",
       "      <td>en</td>\n",
       "    </tr>\n",
       "    <tr>\n",
       "      <th>...</th>\n",
       "      <td>...</td>\n",
       "      <td>...</td>\n",
       "      <td>...</td>\n",
       "    </tr>\n",
       "    <tr>\n",
       "      <th>45328</th>\n",
       "      <td>30840</td>\n",
       "      <td>Robin Hood</td>\n",
       "      <td>en</td>\n",
       "    </tr>\n",
       "    <tr>\n",
       "      <th>45329</th>\n",
       "      <td>111109</td>\n",
       "      <td>Century Of Birthing</td>\n",
       "      <td>tl</td>\n",
       "    </tr>\n",
       "    <tr>\n",
       "      <th>45330</th>\n",
       "      <td>67758</td>\n",
       "      <td>Betrayal</td>\n",
       "      <td>en</td>\n",
       "    </tr>\n",
       "    <tr>\n",
       "      <th>45331</th>\n",
       "      <td>227506</td>\n",
       "      <td>Satan Triumphant</td>\n",
       "      <td>en</td>\n",
       "    </tr>\n",
       "    <tr>\n",
       "      <th>45332</th>\n",
       "      <td>461257</td>\n",
       "      <td>Queerama</td>\n",
       "      <td>en</td>\n",
       "    </tr>\n",
       "  </tbody>\n",
       "</table>\n",
       "<p>45333 rows × 3 columns</p>\n",
       "</div>"
      ],
      "text/plain": [
       "       id_movie                        title original_language\n",
       "0           862                    Toy Story                en\n",
       "1          8844                      Jumanji                en\n",
       "2         15602             Grumpier Old Men                en\n",
       "3         31357            Waiting To Exhale                en\n",
       "4         11862  Father Of The Bride Part Ii                en\n",
       "...         ...                          ...               ...\n",
       "45328     30840                   Robin Hood                en\n",
       "45329    111109          Century Of Birthing                tl\n",
       "45330     67758                     Betrayal                en\n",
       "45331    227506             Satan Triumphant                en\n",
       "45332    461257                     Queerama                en\n",
       "\n",
       "[45333 rows x 3 columns]"
      ]
     },
     "execution_count": 3,
     "metadata": {},
     "output_type": "execute_result"
    }
   ],
   "source": [
    "original_language"
   ]
  },
  {
   "cell_type": "code",
   "execution_count": 4,
   "metadata": {},
   "outputs": [],
   "source": [
    "# @app.get('/peliculas_idioma/{idioma}')\n",
    "def peliculas_idioma(idioma:str):\n",
    "    respuesta = int(original_language.original_language ==idioma).sum()\n",
    "    return {'idioma':idioma, 'cantidad':respuesta}\n",
    "    "
   ]
  },
  {
   "cell_type": "code",
   "execution_count": 5,
   "metadata": {},
   "outputs": [
    {
     "name": "stdout",
     "output_type": "stream",
     "text": [
      "{'idioma': 'en', 'cantidad': 32176}\n",
      "{'idioma': 'es', 'cantidad': 992}\n",
      "{'idioma': '0', 'cantidad': 0}\n",
      "{'idioma': 'tg', 'cantidad': 1}\n"
     ]
    }
   ],
   "source": [
    "print(peliculas_idioma('en'))\n",
    "print(peliculas_idioma('es'))\n",
    "print(peliculas_idioma('0'))\n",
    "print(peliculas_idioma('tg'))"
   ]
  },
  {
   "cell_type": "markdown",
   "metadata": {},
   "source": [
    "Si es resultado es 0, se entiende que no hay peliculas en ese idioma y por lo tanto significaria que no estan en la base de datos."
   ]
  },
  {
   "cell_type": "markdown",
   "metadata": {},
   "source": [
    "-------------"
   ]
  },
  {
   "cell_type": "markdown",
   "metadata": {},
   "source": [
    "# 2. función peliculas_duracion"
   ]
  },
  {
   "cell_type": "markdown",
   "metadata": {},
   "source": [
    "Se ingresa una pelicula. Debe devolver la duracion y el año.\n",
    "Ejemplo de retorno: X . Duración: x. Año: xx"
   ]
  },
  {
   "cell_type": "code",
   "execution_count": 25,
   "metadata": {},
   "outputs": [],
   "source": [
    "def peliculas_duracion( pelicula: str ): \n",
    "    '''  Se ingresa una pelicula. Debe devolver la duracion y el año..\n",
    "    '''\n",
    "    pelicula = pelicula.title().strip()\n",
    "    pelis = movies[['title','runtime','release_year']]\n",
    "    mensaje = \"La pelicula {} no se encuentra en la base de datos\".format(pelicula)\n",
    "\n",
    "\n",
    "\n",
    "    if (pelis['title']==pelicula).any():\n",
    "        pelis = pelis[pelis['title']==pelicula]\n",
    "        duracion = pelis['runtime'].tolist()\n",
    "        anios = pelis['release_year'].tolist()\n",
    "\n",
    "  \n",
    "        data = {\n",
    "            'titulo':pelicula,\n",
    "            'anio': anios, \n",
    "            'duración': duracion}\n",
    "        \n",
    "    else:\n",
    "        data = {mensaje}\n",
    "\n",
    "    return data\n"
   ]
  },
  {
   "cell_type": "code",
   "execution_count": 26,
   "metadata": {},
   "outputs": [
    {
     "name": "stdout",
     "output_type": "stream",
     "text": [
      "{'La pelicula Titank no se encuentra en la base de datos'}\n",
      "{'La pelicula Titan no se encuentra en la base de datos'}\n",
      "{'titulo': 'Toy Story', 'anio': [1995], 'duración': [81.0]}\n",
      "{'titulo': 'Toy Story', 'anio': [1995], 'duración': [81.0]}\n",
      "{'titulo': 'Titanic', 'anio': [1997, 1953, 1996], 'duración': [194.0, 98.0, 173.0]}\n"
     ]
    }
   ],
   "source": [
    "print(peliculas_duracion('Titank'))\n",
    "print(peliculas_duracion('Titan'))\n",
    "print(peliculas_duracion('Toy Story '))\n",
    "print(peliculas_duracion('toy story'))\n",
    "print(peliculas_duracion('Titanic'))\n"
   ]
  },
  {
   "cell_type": "markdown",
   "metadata": {},
   "source": [
    "-----------------"
   ]
  },
  {
   "cell_type": "markdown",
   "metadata": {},
   "source": [
    "# 3. función franquicia"
   ]
  },
  {
   "cell_type": "markdown",
   "metadata": {},
   "source": [
    "Se ingresa la franquicia, retornando la cantidad de peliculas, ganancia total y promedio\n",
    "Ejemplo de retorno: La franquicia X posee X peliculas, una ganancia total de x y una ganancia promedio de xx"
   ]
  },
  {
   "cell_type": "markdown",
   "metadata": {},
   "source": [
    "cantidad"
   ]
  },
  {
   "cell_type": "code",
   "execution_count": 8,
   "metadata": {},
   "outputs": [
    {
     "data": {
      "text/plain": [
       "0        True\n",
       "1       False\n",
       "2       False\n",
       "3       False\n",
       "4       False\n",
       "        ...  \n",
       "4371    False\n",
       "4372    False\n",
       "4373    False\n",
       "4374    False\n",
       "4375    False\n",
       "Name: name_collection, Length: 4376, dtype: bool"
      ]
     },
     "execution_count": 8,
     "metadata": {},
     "output_type": "execute_result"
    }
   ],
   "source": [
    "collections.name_collection == 'Toy Story Collection'"
   ]
  },
  {
   "cell_type": "code",
   "execution_count": 9,
   "metadata": {},
   "outputs": [
    {
     "data": {
      "text/plain": [
       "3"
      ]
     },
     "execution_count": 9,
     "metadata": {},
     "output_type": "execute_result"
    }
   ],
   "source": [
    "(collections.name_collection == 'Toy Story Collection').sum()"
   ]
  },
  {
   "cell_type": "code",
   "execution_count": 10,
   "metadata": {},
   "outputs": [
    {
     "data": {
      "text/plain": [
       "id_movie           3\n",
       "name_collection    3\n",
       "revenue            3\n",
       "dtype: int64"
      ]
     },
     "execution_count": 10,
     "metadata": {},
     "output_type": "execute_result"
    }
   ],
   "source": [
    "collections[collections.name_collection == 'Toy Story Collection'].count()"
   ]
  },
  {
   "cell_type": "markdown",
   "metadata": {},
   "source": [
    "ganancia_total"
   ]
  },
  {
   "cell_type": "code",
   "execution_count": 11,
   "metadata": {},
   "outputs": [
    {
     "data": {
      "text/plain": [
       "Series([], Name: revenue, dtype: int64)"
      ]
     },
     "execution_count": 11,
     "metadata": {},
     "output_type": "execute_result"
    }
   ],
   "source": [
    "collections['revenue'][collections.name_collection == 'Father of the Bride Collection']"
   ]
  },
  {
   "cell_type": "code",
   "execution_count": 12,
   "metadata": {},
   "outputs": [
    {
     "data": {
      "text/plain": [
       "0"
      ]
     },
     "execution_count": 12,
     "metadata": {},
     "output_type": "execute_result"
    }
   ],
   "source": [
    "(collections['revenue'][collections.name_collection == 'Father of the Bride Collection']).sum()"
   ]
  },
  {
   "cell_type": "code",
   "execution_count": 13,
   "metadata": {},
   "outputs": [
    {
     "data": {
      "text/plain": [
       "1937890605"
      ]
     },
     "execution_count": 13,
     "metadata": {},
     "output_type": "execute_result"
    }
   ],
   "source": [
    "collections.revenue[collections.name_collection == 'Toy Story Collection'].sum()"
   ]
  },
  {
   "cell_type": "code",
   "execution_count": 14,
   "metadata": {},
   "outputs": [],
   "source": [
    "# @app.get('/franquicia/{franquicia}')\n",
    "def franquicia(franquicia:str):\n",
    "    '''Se ingresa la franquicia, retornando la cantidad de peliculas, ganancia total y promedio'''\n",
    "    franquicia = franquicia.title().strip()\n",
    "    cantidad = int(collections.name_collection == franquicia).sum()\n",
    "\n",
    "    if cantidad == 0:\n",
    "        mensaje = f'La franquicia \"{franquicia}\" no se encuentra en nuestra base de datos. Intente nuevamente.'\n",
    "        out = {mensaje}\n",
    "    else:\n",
    "        ganancia_total = int(collections.revenue[collections.name_collection == franquicia].sum())\n",
    "        ganancia_promedio = ganancia_total/cantidad\n",
    "        out = {'franquicia':franquicia, 'cantidad':cantidad, 'ganancia_total':ganancia_total, 'ganancia_promedio':ganancia_promedio}\n",
    "\n",
    "    return out"
   ]
  },
  {
   "cell_type": "code",
   "execution_count": 15,
   "metadata": {},
   "outputs": [
    {
     "name": "stdout",
     "output_type": "stream",
     "text": [
      "{'franquicia': 'Toy Story Collection', 'cantidad': 3, 'ganancia_total': 1937890605, 'ganancia_promedio': 645963535.0}\n",
      "{'franquicia': 'James Bond Collection', 'cantidad': 26, 'ganancia_total': 7106970239, 'ganancia_promedio': 273345009.1923077}\n",
      "{'La franquicia \"James Bond Collections\" no se encuentra en nuestra base de datos. Intente nuevamente.'}\n",
      "{'La franquicia \"James Bond\" no se encuentra en nuestra base de datos. Intente nuevamente.'}\n",
      "{'franquicia': 'Father Of The Bride Collection', 'cantidad': 2, 'ganancia_total': 165904691, 'ganancia_promedio': 82952345.5}\n",
      "{'franquicia': 'James Bond Collection', 'cantidad': 26, 'ganancia_total': 7106970239, 'ganancia_promedio': 273345009.1923077}\n"
     ]
    }
   ],
   "source": [
    "print (franquicia('Toy Story Collection'))\n",
    "print (franquicia('James Bond Collection'))\n",
    "print (franquicia('James Bond Collections'))\n",
    "print (franquicia('James Bond'))\n",
    "print (franquicia('Father of the Bride Collection '))\n",
    "print (franquicia('James bond Collection'))"
   ]
  },
  {
   "cell_type": "markdown",
   "metadata": {},
   "source": [
    "--------------------"
   ]
  },
  {
   "cell_type": "markdown",
   "metadata": {},
   "source": [
    "# 4. función peliculas_pais"
   ]
  },
  {
   "cell_type": "markdown",
   "metadata": {},
   "source": [
    "Se ingresa un país (como están escritos en el dataset), retornando la cantidad de peliculas producidas en el mismo.\n",
    "Ejemplo de retorno: Se produjeron X películas en el país X"
   ]
  },
  {
   "cell_type": "code",
   "execution_count": 28,
   "metadata": {},
   "outputs": [],
   "source": [
    "# @app.get('/peliculas_pais/{pais}')\n",
    "def peliculas_pais(pais:str):\n",
    "    '''Ingresas el pais, retornando la cantidad de peliculas producidas en el mismo'''\n",
    "    pais = pais.upper()\n",
    "    cantidad =  int(production_countries.id_production_countries[production_countries.id_production_countries == pais].count())\n",
    "    \n",
    "    return {'pais':pais, 'cantidad':cantidad}"
   ]
  },
  {
   "cell_type": "code",
   "execution_count": 30,
   "metadata": {},
   "outputs": [
    {
     "name": "stdout",
     "output_type": "stream",
     "text": [
      "{'pais': 'IT', 'cantidad': 2163}\n",
      "{'pais': 'ES', 'cantidad': 964}\n",
      "{'pais': 'FR', 'cantidad': 3928}\n",
      "{'pais': 'AR', 'cantidad': 254}\n",
      "{'pais': 'A', 'cantidad': 0}\n"
     ]
    }
   ],
   "source": [
    "print (peliculas_pais('IT'))\n",
    "print (peliculas_pais('es'))\n",
    "print (peliculas_pais('FR'))\n",
    "print (peliculas_pais('AR'))\n",
    "print (peliculas_pais('A'))\n"
   ]
  },
  {
   "cell_type": "markdown",
   "metadata": {},
   "source": [
    "Obtener un valor 0 como respuesta indica que esa notación de país no se encuentra en el dataset."
   ]
  },
  {
   "cell_type": "markdown",
   "metadata": {},
   "source": [
    "------"
   ]
  },
  {
   "cell_type": "markdown",
   "metadata": {},
   "source": [
    "# 5. función productoras_exitosas"
   ]
  },
  {
   "cell_type": "markdown",
   "metadata": {},
   "source": [
    "Se ingresa la productora, entregandote el revunue total y la cantidad de peliculas que realizo.\n",
    "Ejemplo de retorno: La productora X ha tenido un revenue de x"
   ]
  },
  {
   "cell_type": "code",
   "execution_count": 18,
   "metadata": {},
   "outputs": [
    {
     "data": {
      "text/html": [
       "<div>\n",
       "<style scoped>\n",
       "    .dataframe tbody tr th:only-of-type {\n",
       "        vertical-align: middle;\n",
       "    }\n",
       "\n",
       "    .dataframe tbody tr th {\n",
       "        vertical-align: top;\n",
       "    }\n",
       "\n",
       "    .dataframe thead th {\n",
       "        text-align: right;\n",
       "    }\n",
       "</style>\n",
       "<table border=\"1\" class=\"dataframe\">\n",
       "  <thead>\n",
       "    <tr style=\"text-align: right;\">\n",
       "      <th></th>\n",
       "      <th>id_movie</th>\n",
       "      <th>id_production_companies</th>\n",
       "      <th>name_production_companies</th>\n",
       "      <th>revenue</th>\n",
       "    </tr>\n",
       "  </thead>\n",
       "  <tbody>\n",
       "    <tr>\n",
       "      <th>0</th>\n",
       "      <td>862</td>\n",
       "      <td>3</td>\n",
       "      <td>Pixar Animation Studios</td>\n",
       "      <td>373554033</td>\n",
       "    </tr>\n",
       "    <tr>\n",
       "      <th>1</th>\n",
       "      <td>8844</td>\n",
       "      <td>559</td>\n",
       "      <td>TriStar Pictures</td>\n",
       "      <td>262797249</td>\n",
       "    </tr>\n",
       "    <tr>\n",
       "      <th>2</th>\n",
       "      <td>8844</td>\n",
       "      <td>2550</td>\n",
       "      <td>Teitler Film</td>\n",
       "      <td>262797249</td>\n",
       "    </tr>\n",
       "  </tbody>\n",
       "</table>\n",
       "</div>"
      ],
      "text/plain": [
       "   id_movie  id_production_companies name_production_companies    revenue\n",
       "0       862                        3   Pixar Animation Studios  373554033\n",
       "1      8844                      559          TriStar Pictures  262797249\n",
       "2      8844                     2550              Teitler Film  262797249"
      ]
     },
     "execution_count": 18,
     "metadata": {},
     "output_type": "execute_result"
    }
   ],
   "source": [
    "movies_production_companies.head(3)"
   ]
  },
  {
   "cell_type": "code",
   "execution_count": 38,
   "metadata": {},
   "outputs": [],
   "source": [
    "# @app.get('/productoras_exitosas/{productora}')\n",
    "def productoras_exitosas(productora:str):\n",
    "    '''Ingresas la productora, entregandote el revunue total y la cantidad de peliculas que realizo '''\n",
    "    productora = productora.title().strip()\n",
    "\n",
    "    df = movies_production_companies[movies_production_companies.name_production_companies == productora]\n",
    "\n",
    "    revenue_total = int(df.revenue.sum())\n",
    "    cantidad = int(df.revenue.count())\n",
    "\n",
    "    return {'productora':productora, 'revenue_total': revenue_total,'cantidad':cantidad}"
   ]
  },
  {
   "cell_type": "code",
   "execution_count": 24,
   "metadata": {},
   "outputs": [
    {
     "data": {
      "text/plain": [
       "id_movie                      int64\n",
       "id_production_companies       int64\n",
       "name_production_companies    object\n",
       "revenue                       int64\n",
       "dtype: object"
      ]
     },
     "execution_count": 24,
     "metadata": {},
     "output_type": "execute_result"
    }
   ],
   "source": [
    "movies_production_companies.dtypes"
   ]
  },
  {
   "cell_type": "code",
   "execution_count": 39,
   "metadata": {},
   "outputs": [
    {
     "data": {
      "text/plain": [
       "{'productora': 'Pixar Animation Studios',\n",
       " 'revenue_total': 11188533734,\n",
       " 'cantidad': 52}"
      ]
     },
     "execution_count": 39,
     "metadata": {},
     "output_type": "execute_result"
    }
   ],
   "source": [
    "productoras_exitosas('Pixar Animation Studios')"
   ]
  },
  {
   "cell_type": "code",
   "execution_count": 21,
   "metadata": {},
   "outputs": [
    {
     "data": {
      "text/plain": [
       "(52, 4)"
      ]
     },
     "execution_count": 21,
     "metadata": {},
     "output_type": "execute_result"
    }
   ],
   "source": [
    "movies_production_companies[movies_production_companies.name_production_companies == 'Pixar Animation Studios'].shape"
   ]
  },
  {
   "cell_type": "markdown",
   "metadata": {},
   "source": [
    "---------"
   ]
  },
  {
   "cell_type": "markdown",
   "metadata": {},
   "source": [
    "# 6. funcion get_director\n",
    "Se ingresa el nombre de un director que se encuentre dentro de un dataset debiendo devolver el éxito del mismo medido a través del retorno. Además, deberá devolver el nombre de cada película con la fecha de lanzamiento, retorno individual, costo y ganancia de la misma, en formato lista."
   ]
  },
  {
   "cell_type": "code",
   "execution_count": 22,
   "metadata": {},
   "outputs": [],
   "source": [
    "def get_director( nombre_director ): \n",
    "    '''\n",
    "    Se ingresa el nombre de un director que se encuentre dentro de un dataset debiendo devolver el éxito del mismo medido a través del retorno. \n",
    "    Además, deberá devolver el nombre de cada película con la fecha de lanzamiento, retorno individual, costo y ganancia de la misma.\n",
    "    '''\n",
    "    \n",
    "    id_director = directors[directors.name == nombre_director.title().strip()].iloc[0,0]\n",
    "\n",
    "    df = (\n",
    "        pd.merge(\n",
    "            directors[directors['id_director'] == id_director],\n",
    "            movies[['id_movie','title','release_year','revenue','budget','return']],\n",
    "            on='id_movie', \n",
    "            how='inner')\n",
    "    )\n",
    "    \n",
    "    retorno_total_director = df['return'].sum()\n",
    "    peliculas = df['title'].tolist()\n",
    "    anios = df['release_year'].tolist()\n",
    "    retorno_peliculas = df['return'].tolist()\n",
    "    budget_peliculas = df['budget'].tolist()\n",
    "    revenue_peliculas = df['revenue'].tolist()\n",
    "\n",
    "    data = {\n",
    "        'director':nombre_director, \n",
    "        'retorno_total_director':retorno_total_director, \n",
    "        'peliculas':peliculas, \n",
    "        'anio':anios, \n",
    "        'retorno_pelicula':retorno_peliculas, \n",
    "        'budget_pelicula':budget_peliculas, \n",
    "        'revenue_pelicula':revenue_peliculas}\n",
    "\n",
    "    return data"
   ]
  },
  {
   "cell_type": "code",
   "execution_count": 23,
   "metadata": {},
   "outputs": [
    {
     "data": {
      "text/plain": [
       "{'director': 'John Lasseter',\n",
       " 'retorno_total_director': 1.208592305132345,\n",
       " 'peliculas': ['Toy Story',\n",
       "  \"A Bug'S Life\",\n",
       "  'Toy Story 2',\n",
       "  'Luxo Jr.',\n",
       "  'Cars',\n",
       "  'Cars 2',\n",
       "  'Tin Toy',\n",
       "  \"Red'S Dream\",\n",
       "  'Knick Knack',\n",
       "  'Mater And The Ghostlight'],\n",
       " 'anio': [1995, 1998, 1999, 1986, 2006, 2011, 1988, 1987, 1989, 2006],\n",
       " 'retorno_pelicula': [0.0803096670087349,\n",
       "  0.3303429414779943,\n",
       "  0.1809529456213136,\n",
       "  0.0,\n",
       "  0.2597497338587992,\n",
       "  0.357237017165503,\n",
       "  0.0,\n",
       "  0.0,\n",
       "  0.0,\n",
       "  0.0],\n",
       " 'budget_pelicula': [30000000,\n",
       "  120000000,\n",
       "  90000000,\n",
       "  0,\n",
       "  120000000,\n",
       "  200000000,\n",
       "  0,\n",
       "  0,\n",
       "  0,\n",
       "  0],\n",
       " 'revenue_pelicula': [373554033,\n",
       "  363258859,\n",
       "  497366869,\n",
       "  0,\n",
       "  461983149,\n",
       "  559852396,\n",
       "  0,\n",
       "  0,\n",
       "  0,\n",
       "  0]}"
      ]
     },
     "execution_count": 23,
     "metadata": {},
     "output_type": "execute_result"
    }
   ],
   "source": [
    "get_director('John Lasseter')"
   ]
  }
 ],
 "metadata": {
  "kernelspec": {
   "display_name": "Python 3",
   "language": "python",
   "name": "python3"
  },
  "language_info": {
   "codemirror_mode": {
    "name": "ipython",
    "version": 3
   },
   "file_extension": ".py",
   "mimetype": "text/x-python",
   "name": "python",
   "nbconvert_exporter": "python",
   "pygments_lexer": "ipython3",
   "version": "3.11.0"
  },
  "orig_nbformat": 4
 },
 "nbformat": 4,
 "nbformat_minor": 2
}
