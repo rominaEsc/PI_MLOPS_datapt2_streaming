{
 "cells": [
  {
   "cell_type": "code",
   "execution_count": 3,
   "metadata": {},
   "outputs": [],
   "source": [
    "import pandas as pd\n",
    "import numpy as np\n",
    "from wordcloud import WordCloud, STOPWORDS\n",
    "\n",
    "from sklearn.feature_extraction.text import TfidfVectorizer, CountVectorizer\n",
    "from sklearn.metrics.pairwise import linear_kernel\n",
    "from pprint import pprint\n",
    "\n",
    "import matplotlib.pyplot as plt\n",
    "import seaborn as sns\n"
   ]
  },
  {
   "cell_type": "code",
   "execution_count": 4,
   "metadata": {},
   "outputs": [],
   "source": [
    "movies = pd.read_csv(\"data/movies_etl.csv\", sep=\",\")\n",
    "directors = pd.read_csv(\"data/directors.csv\", sep=\",\")"
   ]
  },
  {
   "cell_type": "code",
   "execution_count": 5,
   "metadata": {},
   "outputs": [
    {
     "name": "stdout",
     "output_type": "stream",
     "text": [
      "<class 'pandas.core.frame.DataFrame'>\n",
      "RangeIndex: 45333 entries, 0 to 45332\n",
      "Data columns (total 16 columns):\n",
      " #   Column             Non-Null Count  Dtype  \n",
      "---  ------             --------------  -----  \n",
      " 0   id_movie           45333 non-null  int64  \n",
      " 1   title              45333 non-null  object \n",
      " 2   tagline            20381 non-null  object \n",
      " 3   overview           44392 non-null  object \n",
      " 4   original_language  45322 non-null  object \n",
      " 5   runtime            45087 non-null  float64\n",
      " 6   status             45253 non-null  object \n",
      " 7   release_date       45333 non-null  object \n",
      " 8   release_year       45333 non-null  int64  \n",
      " 9   budget             45333 non-null  int64  \n",
      " 10  revenue            45333 non-null  int64  \n",
      " 11  return             45333 non-null  float64\n",
      " 12  vote_count         45333 non-null  int64  \n",
      " 13  vote_average       45333 non-null  int64  \n",
      " 14  popularity         45333 non-null  float64\n",
      " 15  id_collection      4483 non-null   float64\n",
      "dtypes: float64(4), int64(6), object(6)\n",
      "memory usage: 5.5+ MB\n"
     ]
    }
   ],
   "source": [
    "movies.info()"
   ]
  },
  {
   "cell_type": "code",
   "execution_count": 6,
   "metadata": {},
   "outputs": [
    {
     "data": {
      "text/html": [
       "<div>\n",
       "<style scoped>\n",
       "    .dataframe tbody tr th:only-of-type {\n",
       "        vertical-align: middle;\n",
       "    }\n",
       "\n",
       "    .dataframe tbody tr th {\n",
       "        vertical-align: top;\n",
       "    }\n",
       "\n",
       "    .dataframe thead th {\n",
       "        text-align: right;\n",
       "    }\n",
       "</style>\n",
       "<table border=\"1\" class=\"dataframe\">\n",
       "  <thead>\n",
       "    <tr style=\"text-align: right;\">\n",
       "      <th></th>\n",
       "      <th>id_movie</th>\n",
       "      <th>runtime</th>\n",
       "      <th>release_year</th>\n",
       "      <th>budget</th>\n",
       "      <th>revenue</th>\n",
       "      <th>return</th>\n",
       "      <th>vote_count</th>\n",
       "      <th>vote_average</th>\n",
       "      <th>popularity</th>\n",
       "      <th>id_collection</th>\n",
       "    </tr>\n",
       "  </thead>\n",
       "  <tbody>\n",
       "    <tr>\n",
       "      <th>count</th>\n",
       "      <td>45333.000000</td>\n",
       "      <td>45087.000000</td>\n",
       "      <td>45333.000000</td>\n",
       "      <td>4.533300e+04</td>\n",
       "      <td>4.533300e+04</td>\n",
       "      <td>4.533300e+04</td>\n",
       "      <td>45333.000000</td>\n",
       "      <td>45333.000000</td>\n",
       "      <td>45333.000000</td>\n",
       "      <td>4483.000000</td>\n",
       "    </tr>\n",
       "    <tr>\n",
       "      <th>mean</th>\n",
       "      <td>108058.249642</td>\n",
       "      <td>94.175882</td>\n",
       "      <td>1991.882536</td>\n",
       "      <td>4.230989e+06</td>\n",
       "      <td>1.123304e+07</td>\n",
       "      <td>1.578364e+02</td>\n",
       "      <td>110.149207</td>\n",
       "      <td>5.250369</td>\n",
       "      <td>2.925689</td>\n",
       "      <td>184212.998885</td>\n",
       "    </tr>\n",
       "    <tr>\n",
       "      <th>std</th>\n",
       "      <td>112196.879634</td>\n",
       "      <td>38.351846</td>\n",
       "      <td>24.053205</td>\n",
       "      <td>1.744452e+07</td>\n",
       "      <td>6.441813e+07</td>\n",
       "      <td>1.313633e+04</td>\n",
       "      <td>491.967458</td>\n",
       "      <td>1.858919</td>\n",
       "      <td>6.011321</td>\n",
       "      <td>141638.033338</td>\n",
       "    </tr>\n",
       "    <tr>\n",
       "      <th>min</th>\n",
       "      <td>2.000000</td>\n",
       "      <td>0.000000</td>\n",
       "      <td>1874.000000</td>\n",
       "      <td>0.000000e+00</td>\n",
       "      <td>0.000000e+00</td>\n",
       "      <td>0.000000e+00</td>\n",
       "      <td>0.000000</td>\n",
       "      <td>0.000000</td>\n",
       "      <td>0.000000</td>\n",
       "      <td>10.000000</td>\n",
       "    </tr>\n",
       "    <tr>\n",
       "      <th>25%</th>\n",
       "      <td>26398.000000</td>\n",
       "      <td>85.000000</td>\n",
       "      <td>1978.000000</td>\n",
       "      <td>0.000000e+00</td>\n",
       "      <td>0.000000e+00</td>\n",
       "      <td>0.000000e+00</td>\n",
       "      <td>3.000000</td>\n",
       "      <td>5.000000</td>\n",
       "      <td>0.388631</td>\n",
       "      <td>86027.500000</td>\n",
       "    </tr>\n",
       "    <tr>\n",
       "      <th>50%</th>\n",
       "      <td>59853.000000</td>\n",
       "      <td>95.000000</td>\n",
       "      <td>2001.000000</td>\n",
       "      <td>0.000000e+00</td>\n",
       "      <td>0.000000e+00</td>\n",
       "      <td>0.000000e+00</td>\n",
       "      <td>10.000000</td>\n",
       "      <td>6.000000</td>\n",
       "      <td>1.129891</td>\n",
       "      <td>141615.000000</td>\n",
       "    </tr>\n",
       "    <tr>\n",
       "      <th>75%</th>\n",
       "      <td>156700.000000</td>\n",
       "      <td>107.000000</td>\n",
       "      <td>2010.000000</td>\n",
       "      <td>0.000000e+00</td>\n",
       "      <td>0.000000e+00</td>\n",
       "      <td>0.000000e+00</td>\n",
       "      <td>34.000000</td>\n",
       "      <td>6.000000</td>\n",
       "      <td>3.687905</td>\n",
       "      <td>294179.500000</td>\n",
       "    </tr>\n",
       "    <tr>\n",
       "      <th>max</th>\n",
       "      <td>469172.000000</td>\n",
       "      <td>1256.000000</td>\n",
       "      <td>2020.000000</td>\n",
       "      <td>3.800000e+08</td>\n",
       "      <td>2.787965e+09</td>\n",
       "      <td>1.916667e+06</td>\n",
       "      <td>14075.000000</td>\n",
       "      <td>10.000000</td>\n",
       "      <td>547.488298</td>\n",
       "      <td>480160.000000</td>\n",
       "    </tr>\n",
       "  </tbody>\n",
       "</table>\n",
       "</div>"
      ],
      "text/plain": [
       "            id_movie       runtime  release_year        budget       revenue  \\\n",
       "count   45333.000000  45087.000000  45333.000000  4.533300e+04  4.533300e+04   \n",
       "mean   108058.249642     94.175882   1991.882536  4.230989e+06  1.123304e+07   \n",
       "std    112196.879634     38.351846     24.053205  1.744452e+07  6.441813e+07   \n",
       "min         2.000000      0.000000   1874.000000  0.000000e+00  0.000000e+00   \n",
       "25%     26398.000000     85.000000   1978.000000  0.000000e+00  0.000000e+00   \n",
       "50%     59853.000000     95.000000   2001.000000  0.000000e+00  0.000000e+00   \n",
       "75%    156700.000000    107.000000   2010.000000  0.000000e+00  0.000000e+00   \n",
       "max    469172.000000   1256.000000   2020.000000  3.800000e+08  2.787965e+09   \n",
       "\n",
       "             return    vote_count  vote_average    popularity  id_collection  \n",
       "count  4.533300e+04  45333.000000  45333.000000  45333.000000    4483.000000  \n",
       "mean   1.578364e+02    110.149207      5.250369      2.925689  184212.998885  \n",
       "std    1.313633e+04    491.967458      1.858919      6.011321  141638.033338  \n",
       "min    0.000000e+00      0.000000      0.000000      0.000000      10.000000  \n",
       "25%    0.000000e+00      3.000000      5.000000      0.388631   86027.500000  \n",
       "50%    0.000000e+00     10.000000      6.000000      1.129891  141615.000000  \n",
       "75%    0.000000e+00     34.000000      6.000000      3.687905  294179.500000  \n",
       "max    1.916667e+06  14075.000000     10.000000    547.488298  480160.000000  "
      ]
     },
     "execution_count": 6,
     "metadata": {},
     "output_type": "execute_result"
    }
   ],
   "source": [
    "movies.describe()"
   ]
  },
  {
   "attachments": {},
   "cell_type": "markdown",
   "metadata": {},
   "source": [
    "Podemos ver que mas del 75% de las peliculas tienen un return = 0 por lo que utilizaremos este dato para filtrar las peliculas con las que entrenaremos nuestro modelo."
   ]
  },
  {
   "cell_type": "code",
   "execution_count": 7,
   "metadata": {},
   "outputs": [
    {
     "data": {
      "text/plain": [
       "(512, 16)"
      ]
     },
     "execution_count": 7,
     "metadata": {},
     "output_type": "execute_result"
    }
   ],
   "source": [
    "movies = movies[movies['vote_count'] > 2000]\n",
    "movies.shape"
   ]
  },
  {
   "cell_type": "code",
   "execution_count": 8,
   "metadata": {},
   "outputs": [],
   "source": [
    "sist_recomendacion_df = (\n",
    "     pd.merge(\n",
    "         movies[['title','overview','id_movie']],\n",
    "         directors,\n",
    "         on = 'id_movie',\n",
    "         how='inner')\n",
    "     )\n",
    "\n",
    "# sist_recomendacion_df"
   ]
  },
  {
   "cell_type": "code",
   "execution_count": 9,
   "metadata": {},
   "outputs": [
    {
     "data": {
      "text/html": [
       "<div>\n",
       "<style scoped>\n",
       "    .dataframe tbody tr th:only-of-type {\n",
       "        vertical-align: middle;\n",
       "    }\n",
       "\n",
       "    .dataframe tbody tr th {\n",
       "        vertical-align: top;\n",
       "    }\n",
       "\n",
       "    .dataframe thead th {\n",
       "        text-align: right;\n",
       "    }\n",
       "</style>\n",
       "<table border=\"1\" class=\"dataframe\">\n",
       "  <thead>\n",
       "    <tr style=\"text-align: right;\">\n",
       "      <th></th>\n",
       "      <th>title</th>\n",
       "      <th>overview</th>\n",
       "      <th>name</th>\n",
       "    </tr>\n",
       "  </thead>\n",
       "  <tbody>\n",
       "    <tr>\n",
       "      <th>0</th>\n",
       "      <td>(500) Days Of Summer</td>\n",
       "      <td>Tom (Joseph Gordon-Levitt), greeting-card writ...</td>\n",
       "      <td>Mychael Danna Hope Hanafin Steven J. Wolfe Mas...</td>\n",
       "    </tr>\n",
       "    <tr>\n",
       "      <th>1</th>\n",
       "      <td>10 Cloverfield Lane</td>\n",
       "      <td>After a car accident, Michelle awakens to find...</td>\n",
       "      <td>Monika Mikkelsen J.J. Abrams Matthew W. Mungle...</td>\n",
       "    </tr>\n",
       "    <tr>\n",
       "      <th>2</th>\n",
       "      <td>12 Angry Men</td>\n",
       "      <td>The defense and the prosecution have rested an...</td>\n",
       "      <td>Sidney Lumet Reginald Rose Henry Fonda Kenyon ...</td>\n",
       "    </tr>\n",
       "    <tr>\n",
       "      <th>3</th>\n",
       "      <td>12 Years A Slave</td>\n",
       "      <td>In the pre-Civil War United States, Solomon No...</td>\n",
       "      <td>Hans Zimmer Brad Pitt Arnon Milchan Tessa Ross...</td>\n",
       "    </tr>\n",
       "    <tr>\n",
       "      <th>4</th>\n",
       "      <td>127 Hours</td>\n",
       "      <td>The true story of mountain climber Aron Ralsto...</td>\n",
       "      <td>Tessa Ross Jon Harris Anthony Dod Mantle Danny...</td>\n",
       "    </tr>\n",
       "    <tr>\n",
       "      <th>...</th>\n",
       "      <td>...</td>\n",
       "      <td>...</td>\n",
       "      <td>...</td>\n",
       "    </tr>\n",
       "    <tr>\n",
       "      <th>507</th>\n",
       "      <td>X-Men: The Last Stand</td>\n",
       "      <td>When a cure is found to treat mutations, lines...</td>\n",
       "      <td>Mark Goldblatt Mark Helfrich Ralph Winter Rich...</td>\n",
       "    </tr>\n",
       "    <tr>\n",
       "      <th>508</th>\n",
       "      <td>X2</td>\n",
       "      <td>Professor Charles Xavier and his team of genet...</td>\n",
       "      <td>Zak Penn David Hayter Bryan Singer Michael Dou...</td>\n",
       "    </tr>\n",
       "    <tr>\n",
       "      <th>509</th>\n",
       "      <td>Zodiac</td>\n",
       "      <td>The true story of the investigation of 'The Zo...</td>\n",
       "      <td>Victor J. Zolfo Casey Storm David Fincher Ceán...</td>\n",
       "    </tr>\n",
       "    <tr>\n",
       "      <th>510</th>\n",
       "      <td>Zombieland</td>\n",
       "      <td>Columbus has made a habit of running from what...</td>\n",
       "      <td>Rhett Reese Ezra Swerdlow Gavin Polone Ryan Ka...</td>\n",
       "    </tr>\n",
       "    <tr>\n",
       "      <th>511</th>\n",
       "      <td>Zootopia</td>\n",
       "      <td>Determined to prove herself, Officer Judy Hopp...</td>\n",
       "      <td>Byron Howard Clark Spencer Jared Bush Matthias...</td>\n",
       "    </tr>\n",
       "  </tbody>\n",
       "</table>\n",
       "<p>512 rows × 3 columns</p>\n",
       "</div>"
      ],
      "text/plain": [
       "                     title                                           overview  \\\n",
       "0     (500) Days Of Summer  Tom (Joseph Gordon-Levitt), greeting-card writ...   \n",
       "1      10 Cloverfield Lane  After a car accident, Michelle awakens to find...   \n",
       "2             12 Angry Men  The defense and the prosecution have rested an...   \n",
       "3         12 Years A Slave  In the pre-Civil War United States, Solomon No...   \n",
       "4                127 Hours  The true story of mountain climber Aron Ralsto...   \n",
       "..                     ...                                                ...   \n",
       "507  X-Men: The Last Stand  When a cure is found to treat mutations, lines...   \n",
       "508                     X2  Professor Charles Xavier and his team of genet...   \n",
       "509                 Zodiac  The true story of the investigation of 'The Zo...   \n",
       "510             Zombieland  Columbus has made a habit of running from what...   \n",
       "511               Zootopia  Determined to prove herself, Officer Judy Hopp...   \n",
       "\n",
       "                                                  name  \n",
       "0    Mychael Danna Hope Hanafin Steven J. Wolfe Mas...  \n",
       "1    Monika Mikkelsen J.J. Abrams Matthew W. Mungle...  \n",
       "2    Sidney Lumet Reginald Rose Henry Fonda Kenyon ...  \n",
       "3    Hans Zimmer Brad Pitt Arnon Milchan Tessa Ross...  \n",
       "4    Tessa Ross Jon Harris Anthony Dod Mantle Danny...  \n",
       "..                                                 ...  \n",
       "507  Mark Goldblatt Mark Helfrich Ralph Winter Rich...  \n",
       "508  Zak Penn David Hayter Bryan Singer Michael Dou...  \n",
       "509  Victor J. Zolfo Casey Storm David Fincher Ceán...  \n",
       "510  Rhett Reese Ezra Swerdlow Gavin Polone Ryan Ka...  \n",
       "511  Byron Howard Clark Spencer Jared Bush Matthias...  \n",
       "\n",
       "[512 rows x 3 columns]"
      ]
     },
     "execution_count": 9,
     "metadata": {},
     "output_type": "execute_result"
    }
   ],
   "source": [
    "sist_recomendacion_df = sist_recomendacion_df.groupby(['title','overview'], as_index=False)['name'].agg(' '.join)\n",
    "sist_recomendacion_df"
   ]
  },
  {
   "cell_type": "code",
   "execution_count": 10,
   "metadata": {},
   "outputs": [
    {
     "name": "stdout",
     "output_type": "stream",
     "text": [
      "title       0\n",
      "overview    0\n",
      "name        0\n",
      "dtype: int64\n",
      "(512, 3)\n"
     ]
    }
   ],
   "source": [
    "print(\n",
    "    sist_recomendacion_df\n",
    "    .isnull()\n",
    "    .sum()\n",
    ")\n",
    "print (sist_recomendacion_df.shape)"
   ]
  },
  {
   "cell_type": "code",
   "execution_count": 11,
   "metadata": {},
   "outputs": [],
   "source": [
    "sist_recomendacion_df['title'] = sist_recomendacion_df['title'].astype('str').str.title().str.strip()\n",
    "sist_recomendacion_df['overview']= sist_recomendacion_df ['overview'].astype('str')\n",
    "sist_recomendacion_df['name'] = sist_recomendacion_df['name'].astype('str')\n",
    "\n",
    "sist_recomendacion_df['text'] = sist_recomendacion_df['overview'] +  sist_recomendacion_df['name']\n",
    "\n",
    "df = sist_recomendacion_df[['title', 'text']]\n",
    "\n",
    "df.to_csv(\"data/ml_df.csv\",index=False)"
   ]
  },
  {
   "attachments": {},
   "cell_type": "markdown",
   "metadata": {},
   "source": [
    "---"
   ]
  },
  {
   "attachments": {},
   "cell_type": "markdown",
   "metadata": {},
   "source": [
    "# Sistema de Recomendación"
   ]
  },
  {
   "cell_type": "code",
   "execution_count": 12,
   "metadata": {},
   "outputs": [],
   "source": [
    "# Instanciamos el CV\n",
    "vectorizer = CountVectorizer()\n",
    "stopwords = STOPWORDS\n",
    "# eliminamos las \"stop words\", palabras comunes no informativas\n",
    "tf = TfidfVectorizer(stop_words='english')\n",
    "\n",
    "# calculamos los features para cada ítem (texto)\n",
    "tfidf_matrix = tf.fit_transform(df['text'])\n",
    "\n",
    "# calculamos las similitudes entre todos los documentos\n",
    "cosine_similarities = linear_kernel(tfidf_matrix, tfidf_matrix)\n",
    "n = 5\n",
    "\n",
    "results = {} \n",
    "for idx, row in df.iterrows():\n",
    "    # guardamos los indices similares basados en la similitud coseno. Los ordenamos en modo ascendente, siendo 0 nada de similitud y 1 total\n",
    "    similar_indices = cosine_similarities[idx].argsort()[:-n-2:-1] \n",
    "    # guardamos los N más cercanos\n",
    "    similar_items = [(f\"{df.loc[i, 'title']}\") for i in similar_indices]\n",
    "    results[f\"{row['title']}\"] = similar_items[1:]\n"
   ]
  },
  {
   "cell_type": "code",
   "execution_count": 13,
   "metadata": {},
   "outputs": [
    {
     "name": "stdout",
     "output_type": "stream",
     "text": [
      "['Toy Story 2', 'Monsters, Inc.', 'Toy Story 3', 'Finding Nemo', 'Cars']\n",
      "['Monsters, Inc.', 'Toy Story', 'Finding Nemo', 'Up', 'Toy Story 3']\n",
      "['Cars 2', 'Monsters, Inc.', 'Toy Story 2', 'Up', 'Finding Nemo']\n"
     ]
    }
   ],
   "source": [
    "pprint(results['Toy Story'])\n",
    "pprint(results['Toy Story 2'])\n",
    "pprint(results['Cars'])"
   ]
  },
  {
   "attachments": {},
   "cell_type": "markdown",
   "metadata": {},
   "source": [
    "-----------"
   ]
  },
  {
   "cell_type": "code",
   "execution_count": 14,
   "metadata": {},
   "outputs": [],
   "source": [
    "# ML\n",
    "# @app.get('/recomendacion/{titulo}')\n",
    "def recomendacion(titulo:str):\n",
    "    '''Ingresas un nombre de pelicula y te recomienda las similares en una lista'''\n",
    "    if df['title'].str.contains(titulo).any():\n",
    "        titulo = titulo.title().strip()\n",
    "        lista = (results[titulo])\n",
    "        data = {'titulo':titulo , 'lista recomendada': lista}\n",
    "    else:\n",
    "        mensaje = \"La pelicula {} no se encuentra en la base de datos.\".format(titulo)\n",
    "        data = {'actor':[mensaje] }    \n",
    "    return data"
   ]
  },
  {
   "cell_type": "code",
   "execution_count": 17,
   "metadata": {},
   "outputs": [
    {
     "data": {
      "text/plain": [
       "{'titulo': 'Toy Story',\n",
       " 'lista recomendada': ['Toy Story 2',\n",
       "  'Monsters, Inc.',\n",
       "  'Toy Story 3',\n",
       "  'Finding Nemo',\n",
       "  'Cars']}"
      ]
     },
     "execution_count": 17,
     "metadata": {},
     "output_type": "execute_result"
    }
   ],
   "source": [
    "recomendacion('Toy Story')"
   ]
  }
 ],
 "metadata": {
  "kernelspec": {
   "display_name": "Python 3",
   "language": "python",
   "name": "python3"
  },
  "language_info": {
   "codemirror_mode": {
    "name": "ipython",
    "version": 3
   },
   "file_extension": ".py",
   "mimetype": "text/x-python",
   "name": "python",
   "nbconvert_exporter": "python",
   "pygments_lexer": "ipython3",
   "version": "3.11.0"
  },
  "orig_nbformat": 4
 },
 "nbformat": 4,
 "nbformat_minor": 2
}
